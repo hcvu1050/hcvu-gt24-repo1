{
 "cells": [
  {
   "cell_type": "code",
   "execution_count": 13,
   "metadata": {},
   "outputs": [],
   "source": [
    "import pandas as pd\n",
    "import tensorflow as tf\n",
    "from tensorflow import keras\n",
    "from keras.losses import BinaryCrossentropy"
   ]
  },
  {
   "cell_type": "code",
   "execution_count": 14,
   "metadata": {},
   "outputs": [],
   "source": [
    "G_train_df      = pd.read_csv ('../data/preprocessed_data/G_train.csv')\n",
    "T_train_df      = pd.read_csv ('../data/preprocessed_data/T_train.csv')\n",
    "G_T_train_df    = pd.read_csv ('../data/preprocessed_data/balanced_G_T_train.csv')\n",
    "\n",
    "G_cv_df         = pd.read_csv ('../data/preprocessed_data/G_cv.csv')\n",
    "T_cv_df         = pd.read_csv ('../data/preprocessed_data/T_cv.csv')\n",
    "G_T_cv_df       = pd.read_csv ('../data/preprocessed_data/G_T_cv.csv')\n"
   ]
  },
  {
   "cell_type": "code",
   "execution_count": 15,
   "metadata": {},
   "outputs": [],
   "source": [
    "random_state = 13\n",
    "frac = 0.1\n",
    "\n",
    "G_train_df      = G_train_df.sample(frac = frac, random_state=random_state)\n",
    "T_train_df      = T_train_df.sample(frac = frac, random_state=random_state)\n",
    "G_T_train_df    = G_T_train_df.sample(frac = frac, random_state=random_state)"
   ]
  },
  {
   "cell_type": "code",
   "execution_count": 16,
   "metadata": {},
   "outputs": [],
   "source": [
    "y_train = G_T_train_df.drop(columns = ['group ID','technique ID' ]).values\n",
    "y_train.dtype\n",
    "\n",
    "# G_train = sampled_G_train_df.drop(columns = ids)\n",
    "G_train = G_train_df.drop(columns = 'group ID').values\n",
    "\n",
    "# T_train = sampled_T_train_df.drop(columns = ids)\n",
    "T_train = T_train_df.drop(columns = 'technique ID').values"
   ]
  },
  {
   "cell_type": "code",
   "execution_count": 17,
   "metadata": {},
   "outputs": [],
   "source": [
    "G_train_tf = tf.convert_to_tensor(G_train)\n",
    "T_train_tf = tf.convert_to_tensor(T_train)\n",
    "y_train_tf = tf.convert_to_tensor(y_train)\n",
    "train_dataset = tf.data.Dataset.from_tensor_slices(({'input_Group': G_train_tf, 'input_Technique': T_train_tf}, y_train_tf))\n",
    "\n",
    "batch_size = 32\n",
    "\n",
    "\n",
    "train_dataset = train_dataset.shuffle(buffer_size=len(G_train_tf))\n",
    "train_dataset = train_dataset.batch(batch_size)\n",
    "train_dataset = train_dataset.prefetch(buffer_size=tf.data.AUTOTUNE)"
   ]
  },
  {
   "cell_type": "code",
   "execution_count": 18,
   "metadata": {},
   "outputs": [],
   "source": [
    "y_cv = G_T_cv_df.drop(columns = ['group ID','technique ID' ]).values\n",
    "y_cv.dtype\n",
    "\n",
    "# G_cv = sampled_G_cv_df.drop(columns = ids)\n",
    "G_cv = G_cv_df.drop(columns = 'group ID').values\n",
    "\n",
    "# T_cv = sampled_T_cv_df.drop(columns = ids)\n",
    "T_cv = T_cv_df.drop(columns = 'technique ID').values"
   ]
  },
  {
   "cell_type": "code",
   "execution_count": 19,
   "metadata": {},
   "outputs": [],
   "source": [
    "G_cv_tf = tf.convert_to_tensor(G_cv)\n",
    "T_cv_tf = tf.convert_to_tensor(T_cv)\n",
    "y_cv_tf = tf.convert_to_tensor(y_cv)\n",
    "cv_dataset = tf.data.Dataset.from_tensor_slices(({'input_Group': G_cv_tf, 'input_Technique': T_cv_tf}, y_cv_tf))\n",
    "cv_dataset = cv_dataset.batch(batch_size)"
   ]
  },
  {
   "cell_type": "code",
   "execution_count": 20,
   "metadata": {},
   "outputs": [],
   "source": [
    "import sys\n",
    "sys.path.append('../models') \n",
    "\n",
    "from model_v0_2 import ContentBasedFiltering"
   ]
  },
  {
   "cell_type": "code",
   "execution_count": 21,
   "metadata": {},
   "outputs": [],
   "source": [
    "# input shapes config\n",
    "num_G_features = G_train.shape[1]  # remove Group ID during training\n",
    "num_T_features = T_train.shape[1]   # remove Movie ID during training\n",
    "\n",
    "model1 = ContentBasedFiltering (\n",
    "    num_G_features=num_G_features, \n",
    "    num_T_features=num_T_features,\n",
    "    Group_NN_width = 128,\n",
    "    Group_NN_depth = 2,\n",
    "    Technique_NN_width = 128,\n",
    "    Technique_NN_depth = 2,)"
   ]
  },
  {
   "cell_type": "code",
   "execution_count": 22,
   "metadata": {},
   "outputs": [
    {
     "name": "stdout",
     "output_type": "stream",
     "text": [
      "Model: \"recsysNN_model\"\n",
      "__________________________________________________________________________________________________\n",
      " Layer (type)                   Output Shape         Param #     Connected to                     \n",
      "==================================================================================================\n",
      " input_Group (InputLayer)       [(None, 463)]        0           []                               \n",
      "                                                                                                  \n",
      " input_Technique (InputLayer)   [(None, 54)]         0           []                               \n",
      "                                                                                                  \n",
      " Group_NN (Sequential)          (None, 32)           80032       ['input_Group[0][0]']            \n",
      "                                                                                                  \n",
      " Technique_NN (Sequential)      (None, 32)           27680       ['input_Technique[0][0]']        \n",
      "                                                                                                  \n",
      " dot_1 (Dot)                    (None, 1)            0           ['Group_NN[0][0]',               \n",
      "                                                                  'Technique_NN[0][0]']           \n",
      "                                                                                                  \n",
      "==================================================================================================\n",
      "Total params: 107,712\n",
      "Trainable params: 107,712\n",
      "Non-trainable params: 0\n",
      "__________________________________________________________________________________________________\n"
     ]
    }
   ],
   "source": [
    "model1.model.summary()"
   ]
  },
  {
   "cell_type": "code",
   "execution_count": 23,
   "metadata": {},
   "outputs": [
    {
     "name": "stdout",
     "output_type": "stream",
     "text": [
      "Epoch 1/50\n"
     ]
    },
    {
     "name": "stdout",
     "output_type": "stream",
     "text": [
      "403/403 [==============================] - 3s 5ms/step - loss: 0.8021 - val_loss: 0.6882\n",
      "Epoch 2/50\n",
      "403/403 [==============================] - 2s 4ms/step - loss: 0.6504 - val_loss: 0.5702\n",
      "Epoch 3/50\n",
      "403/403 [==============================] - 2s 4ms/step - loss: 0.6219 - val_loss: 0.6234\n",
      "Epoch 4/50\n",
      "403/403 [==============================] - 2s 5ms/step - loss: 0.6414 - val_loss: 0.7176\n",
      "Epoch 5/50\n",
      "403/403 [==============================] - 2s 4ms/step - loss: 0.6616 - val_loss: 0.5954\n",
      "Epoch 6/50\n",
      "403/403 [==============================] - 2s 5ms/step - loss: 0.6232 - val_loss: 0.5986\n",
      "Epoch 7/50\n",
      "403/403 [==============================] - 2s 5ms/step - loss: 0.6204 - val_loss: 0.6119\n",
      "Epoch 8/50\n",
      "403/403 [==============================] - 2s 5ms/step - loss: 0.6152 - val_loss: 0.6809\n",
      "Epoch 9/50\n",
      "403/403 [==============================] - 2s 5ms/step - loss: 0.6173 - val_loss: 0.5768\n",
      "Epoch 10/50\n",
      "403/403 [==============================] - 2s 5ms/step - loss: 0.6147 - val_loss: 0.5670\n",
      "Epoch 11/50\n",
      "403/403 [==============================] - 2s 5ms/step - loss: 0.6128 - val_loss: 0.7476\n",
      "Epoch 12/50\n",
      "403/403 [==============================] - 2s 5ms/step - loss: 0.6128 - val_loss: 0.6137\n",
      "Epoch 13/50\n",
      "403/403 [==============================] - 2s 5ms/step - loss: 0.6179 - val_loss: 0.5057\n",
      "Epoch 14/50\n",
      "403/403 [==============================] - 2s 5ms/step - loss: 0.6109 - val_loss: 0.5728\n",
      "Epoch 15/50\n",
      "403/403 [==============================] - 2s 5ms/step - loss: 0.6109 - val_loss: 0.6178\n",
      "Epoch 16/50\n",
      "403/403 [==============================] - 2s 5ms/step - loss: 0.6069 - val_loss: 0.7631\n",
      "Epoch 17/50\n",
      "403/403 [==============================] - 2s 5ms/step - loss: 0.6097 - val_loss: 0.7444\n",
      "Epoch 18/50\n",
      "403/403 [==============================] - 2s 5ms/step - loss: 0.6099 - val_loss: 0.5328\n",
      "Epoch 19/50\n",
      "403/403 [==============================] - 2s 6ms/step - loss: 0.6084 - val_loss: 0.5347\n",
      "Epoch 20/50\n",
      "403/403 [==============================] - 2s 5ms/step - loss: 0.6065 - val_loss: 0.6250\n",
      "Epoch 21/50\n",
      "403/403 [==============================] - 2s 5ms/step - loss: 0.6048 - val_loss: 0.5556\n",
      "Epoch 22/50\n",
      "403/403 [==============================] - 2s 5ms/step - loss: 0.6033 - val_loss: 0.6883\n",
      "Epoch 23/50\n",
      "403/403 [==============================] - 2s 5ms/step - loss: 0.6064 - val_loss: 0.5352\n",
      "Epoch 24/50\n",
      "403/403 [==============================] - 2s 5ms/step - loss: 0.6069 - val_loss: 0.6597\n",
      "Epoch 25/50\n",
      "403/403 [==============================] - 2s 5ms/step - loss: 0.6053 - val_loss: 0.6113\n",
      "Epoch 26/50\n",
      "403/403 [==============================] - 2s 5ms/step - loss: 0.6015 - val_loss: 0.6026\n",
      "Epoch 27/50\n",
      "403/403 [==============================] - 2s 5ms/step - loss: 0.6041 - val_loss: 0.6813\n",
      "Epoch 28/50\n",
      "403/403 [==============================] - 2s 5ms/step - loss: 0.6124 - val_loss: 0.5610\n",
      "Epoch 29/50\n",
      "403/403 [==============================] - 2s 5ms/step - loss: 0.6026 - val_loss: 0.6600\n",
      "Epoch 30/50\n",
      "403/403 [==============================] - 2s 5ms/step - loss: 0.6048 - val_loss: 0.7542\n",
      "Epoch 31/50\n",
      "403/403 [==============================] - 2s 5ms/step - loss: 0.6072 - val_loss: 0.6361\n",
      "Epoch 32/50\n",
      "403/403 [==============================] - 2s 5ms/step - loss: 0.6051 - val_loss: 0.6237\n",
      "Epoch 33/50\n",
      "403/403 [==============================] - 2s 5ms/step - loss: 0.6030 - val_loss: 0.6123\n",
      "Epoch 34/50\n",
      "403/403 [==============================] - 2s 5ms/step - loss: 0.6041 - val_loss: 0.6829\n",
      "Epoch 35/50\n",
      "403/403 [==============================] - 2s 5ms/step - loss: 0.6012 - val_loss: 0.5646\n",
      "Epoch 36/50\n",
      "403/403 [==============================] - 2s 5ms/step - loss: 0.6052 - val_loss: 0.6868\n",
      "Epoch 37/50\n",
      "403/403 [==============================] - 2s 5ms/step - loss: 0.6036 - val_loss: 0.6373\n",
      "Epoch 38/50\n",
      "403/403 [==============================] - 2s 5ms/step - loss: 0.6045 - val_loss: 0.6172\n",
      "Epoch 39/50\n",
      "403/403 [==============================] - 2s 5ms/step - loss: 0.6027 - val_loss: 0.7878\n",
      "Epoch 40/50\n",
      "403/403 [==============================] - 2s 5ms/step - loss: 0.6025 - val_loss: 0.6898\n",
      "Epoch 41/50\n",
      "403/403 [==============================] - 2s 5ms/step - loss: 0.6005 - val_loss: 0.6170\n",
      "Epoch 42/50\n",
      "403/403 [==============================] - 2s 5ms/step - loss: 0.5994 - val_loss: 0.7173\n",
      "Epoch 43/50\n",
      "403/403 [==============================] - 2s 5ms/step - loss: 0.6033 - val_loss: 0.6437\n",
      "Epoch 44/50\n",
      "403/403 [==============================] - 2s 5ms/step - loss: 0.6006 - val_loss: 0.6280\n",
      "Epoch 45/50\n",
      "403/403 [==============================] - 2s 5ms/step - loss: 0.5991 - val_loss: 0.5071\n"
     ]
    }
   ],
   "source": [
    "epochs = 50\n",
    "history = model1.train (\n",
    "    train_dataset,\n",
    "    cv_dataset,\n",
    "    epochs= epochs\n",
    ")"
   ]
  },
  {
   "cell_type": "code",
   "execution_count": null,
   "metadata": {},
   "outputs": [],
   "source": []
  }
 ],
 "metadata": {
  "kernelspec": {
   "display_name": "tfNote01",
   "language": "python",
   "name": "python3"
  },
  "language_info": {
   "codemirror_mode": {
    "name": "ipython",
    "version": 3
   },
   "file_extension": ".py",
   "mimetype": "text/x-python",
   "name": "python",
   "nbconvert_exporter": "python",
   "pygments_lexer": "ipython3",
   "version": "3.10.12"
  },
  "orig_nbformat": 4
 },
 "nbformat": 4,
 "nbformat_minor": 2
}
