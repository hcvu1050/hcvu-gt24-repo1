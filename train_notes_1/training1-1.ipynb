{
 "cells": [
  {
   "cell_type": "code",
   "execution_count": 21,
   "metadata": {},
   "outputs": [],
   "source": [
    "import pandas as pd\n",
    "import tensorflow as tf\n",
    "from tensorflow import keras\n",
    "from keras.losses import BinaryCrossentropy"
   ]
  },
  {
   "cell_type": "code",
   "execution_count": 22,
   "metadata": {},
   "outputs": [],
   "source": [
    "G_train_df      = pd.read_csv ('../data/preprocessed_data/G_train.csv')\n",
    "T_train_df      = pd.read_csv ('../data/preprocessed_data/T_train.csv')\n",
    "G_T_train_df    = pd.read_csv ('../data/preprocessed_data/balanced_G_T_train.csv')\n",
    "\n",
    "G_cv_df         = pd.read_csv ('../data/preprocessed_data/G_cv.csv')\n",
    "T_cv_df         = pd.read_csv ('../data/preprocessed_data/T_cv.csv')\n",
    "G_T_cv_df       = pd.read_csv ('../data/preprocessed_data/G_T_cv.csv')\n"
   ]
  },
  {
   "cell_type": "code",
   "execution_count": 23,
   "metadata": {},
   "outputs": [],
   "source": [
    "random_state = 13\n",
    "frac = 0.1\n",
    "\n",
    "G_train_df      = G_train_df.sample(frac = frac, random_state=random_state)\n",
    "T_train_df      = T_train_df.sample(frac = frac, random_state=random_state)\n",
    "G_T_train_df    = G_T_train_df.sample(frac = frac, random_state=random_state)"
   ]
  },
  {
   "cell_type": "code",
   "execution_count": 24,
   "metadata": {},
   "outputs": [],
   "source": [
    "y_train = G_T_train_df.drop(columns = ['group ID','technique ID' ]).values\n",
    "y_train.dtype\n",
    "\n",
    "# G_train = sampled_G_train_df.drop(columns = ids)\n",
    "G_train = G_train_df.drop(columns = 'group ID').values\n",
    "\n",
    "# T_train = sampled_T_train_df.drop(columns = ids)\n",
    "T_train = T_train_df.drop(columns = 'technique ID').values"
   ]
  },
  {
   "cell_type": "code",
   "execution_count": 25,
   "metadata": {},
   "outputs": [],
   "source": [
    "G_train_tf = tf.convert_to_tensor(G_train)\n",
    "T_train_tf = tf.convert_to_tensor(T_train)\n",
    "y_train_tf = tf.convert_to_tensor(y_train)\n",
    "train_dataset = tf.data.Dataset.from_tensor_slices(({'input_Group': G_train_tf, 'input_Technique': T_train_tf}, y_train_tf))\n",
    "\n",
    "batch_size = 32\n",
    "\n",
    "\n",
    "train_dataset = train_dataset.shuffle(buffer_size=len(G_train_tf))\n",
    "train_dataset = train_dataset.batch(batch_size)\n",
    "train_dataset = train_dataset.prefetch(buffer_size=tf.data.AUTOTUNE)"
   ]
  },
  {
   "cell_type": "code",
   "execution_count": 26,
   "metadata": {},
   "outputs": [],
   "source": [
    "y_cv = G_T_cv_df.drop(columns = ['group ID','technique ID' ]).values\n",
    "y_cv.dtype\n",
    "\n",
    "# G_cv = sampled_G_cv_df.drop(columns = ids)\n",
    "G_cv = G_cv_df.drop(columns = 'group ID').values\n",
    "\n",
    "# T_cv = sampled_T_cv_df.drop(columns = ids)\n",
    "T_cv = T_cv_df.drop(columns = 'technique ID').values"
   ]
  },
  {
   "cell_type": "code",
   "execution_count": 27,
   "metadata": {},
   "outputs": [],
   "source": [
    "G_cv_tf = tf.convert_to_tensor(G_cv)\n",
    "T_cv_tf = tf.convert_to_tensor(T_cv)\n",
    "y_cv_tf = tf.convert_to_tensor(y_cv)\n",
    "cv_dataset = tf.data.Dataset.from_tensor_slices(({'input_Group': G_cv_tf, 'input_Technique': T_cv_tf}, y_cv_tf))\n",
    "cv_dataset = cv_dataset.batch(batch_size)"
   ]
  },
  {
   "cell_type": "code",
   "execution_count": 34,
   "metadata": {},
   "outputs": [],
   "source": [
    "import sys\n",
    "sys.path.append('../models') \n",
    "\n",
    "from model_v0_1 import ContentBasedFiltering"
   ]
  },
  {
   "cell_type": "code",
   "execution_count": 39,
   "metadata": {},
   "outputs": [],
   "source": [
    "# input shapes config\n",
    "num_G_features = G_train.shape[1]  # remove Group ID during training\n",
    "num_T_features = T_train.shape[1]   # remove Movie ID during training\n",
    "\n",
    "model1 = ContentBasedFiltering (num_G_features=num_G_features, num_T_features=num_T_features)"
   ]
  },
  {
   "cell_type": "code",
   "execution_count": 40,
   "metadata": {},
   "outputs": [
    {
     "name": "stdout",
     "output_type": "stream",
     "text": [
      "Epoch 1/50\n"
     ]
    },
    {
     "name": "stdout",
     "output_type": "stream",
     "text": [
      "403/403 [==============================] - 3s 6ms/step - loss: 2.3463 - val_loss: 0.7708\n",
      "Epoch 2/50\n",
      "403/403 [==============================] - 2s 5ms/step - loss: 0.7043 - val_loss: 0.7471\n",
      "Epoch 3/50\n",
      "403/403 [==============================] - 2s 5ms/step - loss: 0.6689 - val_loss: 0.6592\n",
      "Epoch 4/50\n",
      "403/403 [==============================] - 2s 5ms/step - loss: 0.6632 - val_loss: 0.6474\n",
      "Epoch 5/50\n",
      "403/403 [==============================] - 2s 5ms/step - loss: 0.7152 - val_loss: 0.7468\n",
      "Epoch 6/50\n",
      "403/403 [==============================] - 2s 5ms/step - loss: 0.6684 - val_loss: 0.6784\n",
      "Epoch 7/50\n",
      "403/403 [==============================] - 2s 5ms/step - loss: 0.6677 - val_loss: 0.7114\n",
      "Epoch 8/50\n",
      "403/403 [==============================] - 2s 5ms/step - loss: 0.6692 - val_loss: 0.7205\n",
      "Epoch 9/50\n",
      "403/403 [==============================] - 2s 5ms/step - loss: 0.6701 - val_loss: 0.6573\n",
      "Epoch 10/50\n",
      "403/403 [==============================] - 2s 5ms/step - loss: 0.6692 - val_loss: 0.7043\n",
      "Epoch 11/50\n",
      "403/403 [==============================] - 2s 5ms/step - loss: 0.6657 - val_loss: 0.6420\n",
      "Epoch 12/50\n",
      "403/403 [==============================] - 2s 5ms/step - loss: 0.6652 - val_loss: 0.6556\n",
      "Epoch 13/50\n",
      "403/403 [==============================] - 2s 5ms/step - loss: 0.6654 - val_loss: 0.6949\n",
      "Epoch 14/50\n",
      "403/403 [==============================] - 2s 5ms/step - loss: 0.6681 - val_loss: 0.6711\n",
      "Epoch 15/50\n",
      "403/403 [==============================] - 2s 5ms/step - loss: 0.6667 - val_loss: 0.6660\n",
      "Epoch 16/50\n",
      "403/403 [==============================] - 2s 5ms/step - loss: 0.6690 - val_loss: 0.5829\n",
      "Epoch 17/50\n",
      "403/403 [==============================] - 2s 5ms/step - loss: 0.6665 - val_loss: 0.6788\n",
      "Epoch 18/50\n",
      "403/403 [==============================] - 2s 5ms/step - loss: 0.6675 - val_loss: 0.6907\n",
      "Epoch 19/50\n",
      "403/403 [==============================] - 2s 5ms/step - loss: 0.6667 - val_loss: 0.7251\n",
      "Epoch 20/50\n",
      "403/403 [==============================] - 2s 6ms/step - loss: 0.6686 - val_loss: 0.7005\n",
      "Epoch 21/50\n",
      "403/403 [==============================] - 2s 6ms/step - loss: 0.6714 - val_loss: 0.5571\n",
      "Epoch 22/50\n",
      "403/403 [==============================] - 3s 6ms/step - loss: 0.6685 - val_loss: 0.6928\n",
      "Epoch 23/50\n",
      "403/403 [==============================] - 2s 6ms/step - loss: 0.6675 - val_loss: 0.6093\n",
      "Epoch 24/50\n",
      "403/403 [==============================] - 2s 6ms/step - loss: 0.6703 - val_loss: 0.6395\n",
      "Epoch 25/50\n",
      "403/403 [==============================] - 3s 6ms/step - loss: 0.6661 - val_loss: 0.7720\n",
      "Epoch 26/50\n",
      "403/403 [==============================] - 2s 6ms/step - loss: 0.6670 - val_loss: 0.6705\n",
      "Epoch 27/50\n",
      "403/403 [==============================] - 2s 6ms/step - loss: 0.6696 - val_loss: 0.6423\n",
      "Epoch 28/50\n",
      "403/403 [==============================] - 2s 5ms/step - loss: 0.6725 - val_loss: 0.6224\n",
      "Epoch 29/50\n",
      "403/403 [==============================] - 2s 6ms/step - loss: 0.6682 - val_loss: 0.6957\n",
      "Epoch 30/50\n",
      "403/403 [==============================] - 2s 5ms/step - loss: 0.6665 - val_loss: 0.7228\n",
      "Epoch 31/50\n",
      "403/403 [==============================] - 2s 5ms/step - loss: 0.6682 - val_loss: 0.6022\n",
      "Epoch 32/50\n",
      "403/403 [==============================] - 2s 6ms/step - loss: 0.6706 - val_loss: 0.6277\n",
      "Epoch 33/50\n",
      "403/403 [==============================] - 2s 6ms/step - loss: 0.6680 - val_loss: 0.8091\n",
      "Epoch 34/50\n",
      "403/403 [==============================] - 2s 6ms/step - loss: 0.6674 - val_loss: 0.7149\n",
      "Epoch 35/50\n",
      "403/403 [==============================] - 2s 5ms/step - loss: 0.6669 - val_loss: 0.6496\n",
      "Epoch 36/50\n",
      "403/403 [==============================] - 2s 6ms/step - loss: 0.6677 - val_loss: 0.7271\n",
      "Epoch 37/50\n",
      "403/403 [==============================] - 2s 6ms/step - loss: 0.6688 - val_loss: 0.6315\n",
      "Epoch 38/50\n",
      "403/403 [==============================] - 2s 5ms/step - loss: 0.6679 - val_loss: 0.7654\n",
      "Epoch 39/50\n",
      "403/403 [==============================] - 2s 6ms/step - loss: 0.6701 - val_loss: 0.7877\n",
      "Epoch 40/50\n",
      "403/403 [==============================] - 2s 5ms/step - loss: 0.6715 - val_loss: 0.6475\n",
      "Epoch 41/50\n",
      "403/403 [==============================] - 2s 5ms/step - loss: 0.6676 - val_loss: 0.6414\n",
      "Epoch 42/50\n",
      "403/403 [==============================] - 2s 6ms/step - loss: 0.6685 - val_loss: 0.6946\n",
      "Epoch 43/50\n",
      "403/403 [==============================] - 2s 5ms/step - loss: 0.6678 - val_loss: 0.6817\n",
      "Epoch 44/50\n",
      "403/403 [==============================] - 2s 5ms/step - loss: 0.6682 - val_loss: 0.7151\n",
      "Epoch 45/50\n",
      "403/403 [==============================] - 2s 5ms/step - loss: 0.6695 - val_loss: 0.6315\n",
      "Epoch 46/50\n",
      "403/403 [==============================] - 2s 5ms/step - loss: 0.6686 - val_loss: 0.6015\n",
      "Epoch 47/50\n",
      "403/403 [==============================] - 2s 5ms/step - loss: 0.6681 - val_loss: 0.6753\n",
      "Epoch 48/50\n",
      "403/403 [==============================] - 2s 5ms/step - loss: 0.6686 - val_loss: 0.7117\n",
      "Epoch 49/50\n",
      "403/403 [==============================] - 2s 5ms/step - loss: 0.6685 - val_loss: 0.5396\n",
      "Epoch 50/50\n",
      "403/403 [==============================] - 2s 5ms/step - loss: 0.6674 - val_loss: 0.6304\n"
     ]
    }
   ],
   "source": [
    "epochs = 50\n",
    "history = model1.train (\n",
    "    train_dataset,\n",
    "    cv_dataset,\n",
    "    epochs= epochs\n",
    ")"
   ]
  },
  {
   "cell_type": "code",
   "execution_count": null,
   "metadata": {},
   "outputs": [],
   "source": []
  }
 ],
 "metadata": {
  "kernelspec": {
   "display_name": "tfNote01",
   "language": "python",
   "name": "python3"
  },
  "language_info": {
   "codemirror_mode": {
    "name": "ipython",
    "version": 3
   },
   "file_extension": ".py",
   "mimetype": "text/x-python",
   "name": "python",
   "nbconvert_exporter": "python",
   "pygments_lexer": "ipython3",
   "version": "3.10.12"
  },
  "orig_nbformat": 4
 },
 "nbformat": 4,
 "nbformat_minor": 2
}
