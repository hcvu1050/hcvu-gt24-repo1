{
 "cells": [
  {
   "cell_type": "markdown",
   "metadata": {},
   "source": [
    "# Experiment training for model v0.3\n",
    "- model from `models/model_v0_3.py`"
   ]
  },
  {
   "cell_type": "code",
   "execution_count": 1,
   "metadata": {},
   "outputs": [],
   "source": [
    "import pandas as pd\n",
    "import tensorflow as tf\n",
    "from tensorflow import keras\n",
    "from keras.losses import BinaryCrossentropy"
   ]
  },
  {
   "cell_type": "code",
   "execution_count": 2,
   "metadata": {},
   "outputs": [],
   "source": [
    "G_train_df      = pd.read_csv ('../data/preprocessed_data/G_train.csv')\n",
    "T_train_df      = pd.read_csv ('../data/preprocessed_data/T_train.csv')\n",
    "G_T_train_df    = pd.read_csv ('../data/preprocessed_data/balanced_G_T_train.csv')\n",
    "\n",
    "G_cv_df         = pd.read_csv ('../data/preprocessed_data/G_cv.csv')\n",
    "T_cv_df         = pd.read_csv ('../data/preprocessed_data/T_cv.csv')\n",
    "G_T_cv_df       = pd.read_csv ('../data/preprocessed_data/G_T_cv.csv')\n"
   ]
  },
  {
   "cell_type": "code",
   "execution_count": 3,
   "metadata": {},
   "outputs": [],
   "source": [
    "random_state = 13\n",
    "frac = 0.1\n",
    "\n",
    "G_train_df      = G_train_df.sample(frac = frac, random_state=random_state)\n",
    "T_train_df      = T_train_df.sample(frac = frac, random_state=random_state)\n",
    "G_T_train_df    = G_T_train_df.sample(frac = frac, random_state=random_state)"
   ]
  },
  {
   "cell_type": "code",
   "execution_count": 4,
   "metadata": {},
   "outputs": [],
   "source": [
    "y_train = G_T_train_df.drop(columns = ['group ID','technique ID' ]).values\n",
    "y_train.dtype\n",
    "\n",
    "# G_train = sampled_G_train_df.drop(columns = ids)\n",
    "G_train = G_train_df.drop(columns = 'group ID').values\n",
    "\n",
    "# T_train = sampled_T_train_df.drop(columns = ids)\n",
    "T_train = T_train_df.drop(columns = 'technique ID').values"
   ]
  },
  {
   "cell_type": "code",
   "execution_count": 5,
   "metadata": {},
   "outputs": [],
   "source": [
    "G_train_tf = tf.convert_to_tensor(G_train)\n",
    "T_train_tf = tf.convert_to_tensor(T_train)\n",
    "y_train_tf = tf.convert_to_tensor(y_train)\n",
    "train_dataset = tf.data.Dataset.from_tensor_slices(({'input_Group': G_train_tf, 'input_Technique': T_train_tf}, y_train_tf))\n",
    "\n",
    "batch_size = 32\n",
    "\n",
    "\n",
    "train_dataset = train_dataset.shuffle(buffer_size=len(G_train_tf))\n",
    "train_dataset = train_dataset.batch(batch_size)\n",
    "train_dataset = train_dataset.prefetch(buffer_size=tf.data.AUTOTUNE)"
   ]
  },
  {
   "cell_type": "code",
   "execution_count": 6,
   "metadata": {},
   "outputs": [],
   "source": [
    "y_cv = G_T_cv_df.drop(columns = ['group ID','technique ID' ]).values\n",
    "y_cv.dtype\n",
    "\n",
    "# G_cv = sampled_G_cv_df.drop(columns = ids)\n",
    "G_cv = G_cv_df.drop(columns = 'group ID').values\n",
    "\n",
    "# T_cv = sampled_T_cv_df.drop(columns = ids)\n",
    "T_cv = T_cv_df.drop(columns = 'technique ID').values"
   ]
  },
  {
   "cell_type": "code",
   "execution_count": 7,
   "metadata": {},
   "outputs": [],
   "source": [
    "G_cv_tf = tf.convert_to_tensor(G_cv)\n",
    "T_cv_tf = tf.convert_to_tensor(T_cv)\n",
    "y_cv_tf = tf.convert_to_tensor(y_cv)\n",
    "cv_dataset = tf.data.Dataset.from_tensor_slices(({'input_Group': G_cv_tf, 'input_Technique': T_cv_tf}, y_cv_tf))\n",
    "cv_dataset = cv_dataset.batch(batch_size)"
   ]
  },
  {
   "cell_type": "code",
   "execution_count": 8,
   "metadata": {},
   "outputs": [],
   "source": [
    "import sys\n",
    "sys.path.append('../models') \n",
    "\n",
    "from model_v0_3 import ContentBasedFiltering"
   ]
  },
  {
   "cell_type": "code",
   "execution_count": 9,
   "metadata": {},
   "outputs": [],
   "source": [
    "# input shapes config\n",
    "num_G_features = G_train.shape[1]  # remove Group ID during training\n",
    "num_T_features = T_train.shape[1]   # remove Movie ID during training\n",
    "\n",
    "model1 = ContentBasedFiltering (\n",
    "    num_G_features=num_G_features, \n",
    "    num_T_features=num_T_features,\n",
    "    Group_NN_width = 128,\n",
    "    Group_NN_depth = 2,\n",
    "    Technique_NN_width = 128,\n",
    "    Technique_NN_depth = 2,)"
   ]
  },
  {
   "cell_type": "code",
   "execution_count": 10,
   "metadata": {},
   "outputs": [
    {
     "name": "stdout",
     "output_type": "stream",
     "text": [
      "Model: \"recsysNN_model\"\n",
      "__________________________________________________________________________________________________\n",
      " Layer (type)                   Output Shape         Param #     Connected to                     \n",
      "==================================================================================================\n",
      " input_Group (InputLayer)       [(None, 463)]        0           []                               \n",
      "                                                                                                  \n",
      " input_Technique (InputLayer)   [(None, 54)]         0           []                               \n",
      "                                                                                                  \n",
      " Group_NN (Sequential)          (None, 32)           80032       ['input_Group[0][0]']            \n",
      "                                                                                                  \n",
      " Technique_NN (Sequential)      (None, 32)           27680       ['input_Technique[0][0]']        \n",
      "                                                                                                  \n",
      " dot (Dot)                      (None, 1)            0           ['Group_NN[0][0]',               \n",
      "                                                                  'Technique_NN[0][0]']           \n",
      "                                                                                                  \n",
      "==================================================================================================\n",
      "Total params: 107,712\n",
      "Trainable params: 107,712\n",
      "Non-trainable params: 0\n",
      "__________________________________________________________________________________________________\n"
     ]
    }
   ],
   "source": [
    "model1.model.summary()"
   ]
  },
  {
   "cell_type": "code",
   "execution_count": 11,
   "metadata": {},
   "outputs": [
    {
     "name": "stdout",
     "output_type": "stream",
     "text": [
      "Epoch 1/50\n",
      "403/403 [==============================] - 3s 5ms/step - loss: 0.5598 - val_loss: 0.4845\n",
      "Epoch 2/50\n",
      "403/403 [==============================] - 2s 4ms/step - loss: 0.4936 - val_loss: 0.6526\n",
      "Epoch 3/50\n",
      "403/403 [==============================] - 2s 4ms/step - loss: 0.4642 - val_loss: 0.4478\n",
      "Epoch 4/50\n",
      "403/403 [==============================] - 2s 4ms/step - loss: 0.4424 - val_loss: 0.6085\n",
      "Epoch 5/50\n",
      "403/403 [==============================] - 2s 4ms/step - loss: 0.4346 - val_loss: 0.4706\n",
      "Epoch 6/50\n",
      "403/403 [==============================] - 2s 4ms/step - loss: 0.4302 - val_loss: 0.5708\n",
      "Epoch 7/50\n",
      "403/403 [==============================] - 2s 4ms/step - loss: 0.4283 - val_loss: 0.5832\n",
      "Epoch 8/50\n",
      "403/403 [==============================] - 2s 4ms/step - loss: 0.4226 - val_loss: 0.4345\n",
      "Epoch 9/50\n",
      "403/403 [==============================] - 2s 4ms/step - loss: 0.4224 - val_loss: 0.4452\n",
      "Epoch 10/50\n",
      "403/403 [==============================] - 2s 4ms/step - loss: 0.4150 - val_loss: 0.4485\n",
      "Epoch 11/50\n",
      "403/403 [==============================] - 2s 5ms/step - loss: 0.4082 - val_loss: 0.4421\n",
      "Epoch 12/50\n",
      "403/403 [==============================] - 2s 5ms/step - loss: 0.4071 - val_loss: 0.4820\n",
      "Epoch 13/50\n",
      "403/403 [==============================] - 2s 5ms/step - loss: 0.4078 - val_loss: 0.4490\n",
      "Epoch 14/50\n",
      "403/403 [==============================] - 2s 5ms/step - loss: 0.4112 - val_loss: 0.4391\n",
      "Epoch 15/50\n",
      "403/403 [==============================] - 2s 5ms/step - loss: 0.4015 - val_loss: 0.5324\n",
      "Epoch 16/50\n",
      "403/403 [==============================] - 2s 5ms/step - loss: 0.4129 - val_loss: 0.4799\n",
      "Epoch 17/50\n",
      "403/403 [==============================] - 2s 5ms/step - loss: 0.4099 - val_loss: 0.5365\n",
      "Epoch 18/50\n",
      "403/403 [==============================] - 2s 6ms/step - loss: 0.4036 - val_loss: 0.6261\n",
      "Epoch 19/50\n",
      "403/403 [==============================] - 2s 5ms/step - loss: 0.4290 - val_loss: 0.4262\n",
      "Epoch 20/50\n",
      "403/403 [==============================] - 2s 5ms/step - loss: 0.4048 - val_loss: 0.4099\n",
      "Epoch 21/50\n",
      "403/403 [==============================] - 2s 5ms/step - loss: 0.4024 - val_loss: 0.4435\n",
      "Epoch 22/50\n",
      "403/403 [==============================] - 2s 5ms/step - loss: 0.4004 - val_loss: 0.4680\n",
      "Epoch 23/50\n",
      "403/403 [==============================] - 2s 5ms/step - loss: 0.3977 - val_loss: 0.4858\n",
      "Epoch 24/50\n",
      "403/403 [==============================] - 2s 5ms/step - loss: 0.3994 - val_loss: 0.5149\n",
      "Epoch 25/50\n",
      "403/403 [==============================] - 2s 5ms/step - loss: 0.4023 - val_loss: 0.5339\n",
      "Epoch 26/50\n",
      "403/403 [==============================] - 2s 5ms/step - loss: 0.3971 - val_loss: 0.5164\n",
      "Epoch 27/50\n",
      "403/403 [==============================] - 2s 5ms/step - loss: 0.3977 - val_loss: 0.3883\n",
      "Epoch 28/50\n",
      "403/403 [==============================] - 2s 5ms/step - loss: 0.4035 - val_loss: 0.4400\n",
      "Epoch 29/50\n",
      "403/403 [==============================] - 2s 5ms/step - loss: 0.4077 - val_loss: 0.4090\n",
      "Epoch 30/50\n",
      "403/403 [==============================] - 2s 5ms/step - loss: 0.4028 - val_loss: 0.4729\n",
      "Epoch 31/50\n",
      "403/403 [==============================] - 2s 5ms/step - loss: 0.3940 - val_loss: 0.5036\n",
      "Epoch 32/50\n",
      "403/403 [==============================] - 2s 5ms/step - loss: 0.3978 - val_loss: 0.4776\n",
      "Epoch 33/50\n",
      "403/403 [==============================] - 2s 5ms/step - loss: 0.4047 - val_loss: 0.4467\n",
      "Epoch 34/50\n",
      "403/403 [==============================] - 2s 5ms/step - loss: 0.3967 - val_loss: 0.5908\n",
      "Epoch 35/50\n",
      "403/403 [==============================] - 2s 5ms/step - loss: 0.3957 - val_loss: 0.4909\n",
      "Epoch 36/50\n",
      "403/403 [==============================] - 2s 5ms/step - loss: 0.3973 - val_loss: 0.4977\n",
      "Epoch 37/50\n",
      "403/403 [==============================] - 2s 5ms/step - loss: 0.3945 - val_loss: 0.4971\n",
      "Epoch 38/50\n",
      "403/403 [==============================] - 2s 5ms/step - loss: 0.4001 - val_loss: 0.4890\n",
      "Epoch 39/50\n",
      "403/403 [==============================] - 2s 5ms/step - loss: 0.3956 - val_loss: 0.5397\n",
      "Epoch 40/50\n",
      "403/403 [==============================] - 2s 5ms/step - loss: 0.3932 - val_loss: 0.4757\n",
      "Epoch 41/50\n",
      "403/403 [==============================] - 2s 5ms/step - loss: 0.3979 - val_loss: 0.5358\n",
      "Epoch 42/50\n",
      "403/403 [==============================] - 2s 5ms/step - loss: 0.4038 - val_loss: 0.4756\n",
      "Epoch 43/50\n",
      "403/403 [==============================] - 2s 5ms/step - loss: 0.4013 - val_loss: 0.5103\n",
      "Epoch 44/50\n",
      "403/403 [==============================] - 2s 5ms/step - loss: 0.3994 - val_loss: 0.5882\n",
      "Epoch 45/50\n",
      "403/403 [==============================] - 2s 5ms/step - loss: 0.3986 - val_loss: 0.5289\n",
      "Epoch 46/50\n",
      "403/403 [==============================] - 2s 5ms/step - loss: 0.3994 - val_loss: 0.4813\n",
      "Epoch 47/50\n",
      "403/403 [==============================] - 2s 5ms/step - loss: 0.3937 - val_loss: 0.5215\n",
      "Epoch 48/50\n",
      "403/403 [==============================] - 2s 5ms/step - loss: 0.3942 - val_loss: 0.5764\n",
      "Epoch 49/50\n",
      "403/403 [==============================] - 2s 5ms/step - loss: 0.3916 - val_loss: 0.4301\n",
      "Epoch 50/50\n",
      "403/403 [==============================] - 2s 6ms/step - loss: 0.3938 - val_loss: 0.4933\n"
     ]
    }
   ],
   "source": [
    "epochs = 50\n",
    "history = model1.train (\n",
    "    train_dataset,\n",
    "    cv_dataset,\n",
    "    epochs= epochs\n",
    ")"
   ]
  },
  {
   "cell_type": "code",
   "execution_count": null,
   "metadata": {},
   "outputs": [
    {
     "name": "stdout",
     "output_type": "stream",
     "text": [
      "403/403 [==============================] - 1s 2ms/step - loss: 0.4538\n"
     ]
    }
   ],
   "source": [
    "results = model1.evaluate (train_dataset)"
   ]
  },
  {
   "cell_type": "code",
   "execution_count": null,
   "metadata": {},
   "outputs": [
    {
     "name": "stdout",
     "output_type": "stream",
     "text": [
      "403/403 [==============================] - 1s 2ms/step\n"
     ]
    },
    {
     "data": {
      "text/plain": [
       "array([[-24.518478 ],\n",
       "       [ -1.635598 ],\n",
       "       [ -9.12428  ],\n",
       "       ...,\n",
       "       [  2.0669532],\n",
       "       [ -1.3335333],\n",
       "       [ -2.2306433]], dtype=float32)"
      ]
     },
     "execution_count": 18,
     "metadata": {},
     "output_type": "execute_result"
    }
   ],
   "source": [
    "model1.predict(train_dataset)"
   ]
  }
 ],
 "metadata": {
  "kernelspec": {
   "display_name": "tfNote01",
   "language": "python",
   "name": "python3"
  },
  "language_info": {
   "codemirror_mode": {
    "name": "ipython",
    "version": 3
   },
   "file_extension": ".py",
   "mimetype": "text/x-python",
   "name": "python",
   "nbconvert_exporter": "python",
   "pygments_lexer": "ipython3",
   "version": "3.10.12"
  },
  "orig_nbformat": 4
 },
 "nbformat": 4,
 "nbformat_minor": 2
}
