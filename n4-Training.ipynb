{
 "cells": [
  {
   "cell_type": "code",
   "execution_count": 127,
   "metadata": {},
   "outputs": [],
   "source": [
    "import pandas as pd\n",
    "import tensorflow as tf\n",
    "from tensorflow import keras\n",
    "from keras.losses import BinaryCrossentropy"
   ]
  },
  {
   "cell_type": "markdown",
   "metadata": {},
   "source": [
    "# 0 - Dataload "
   ]
  },
  {
   "cell_type": "code",
   "execution_count": 128,
   "metadata": {},
   "outputs": [],
   "source": [
    "G_train_df      = pd.read_csv ('preprocessed_data/G_train_df.csv')\n",
    "T_train_df      = pd.read_csv ('preprocessed_data/T_train_df.csv')\n",
    "G_T_train_df    = pd.read_csv ('preprocessed_data/G_T_train_df.csv')"
   ]
  },
  {
   "cell_type": "code",
   "execution_count": 129,
   "metadata": {},
   "outputs": [],
   "source": [
    "random_state = 13\n",
    "frac = 0.2\n",
    "\n",
    "sampled_G_train_df      = G_train_df.sample(frac = frac, random_state=random_state)\n",
    "sampled_T_train_df      = T_train_df.sample(frac = frac, random_state=random_state)\n",
    "sampled_G_T_train_df    = G_T_train_df.sample(frac = frac, random_state=random_state)\n"
   ]
  },
  {
   "cell_type": "code",
   "execution_count": 130,
   "metadata": {},
   "outputs": [
    {
     "name": "stdout",
     "output_type": "stream",
     "text": [
      "(32410, 3)\n",
      "(32410, 466)\n",
      "(32410, 57)\n"
     ]
    }
   ],
   "source": [
    "print (sampled_G_T_train_df.shape)\n",
    "print (sampled_G_train_df.shape)\n",
    "print (sampled_T_train_df.shape)"
   ]
  },
  {
   "cell_type": "code",
   "execution_count": 131,
   "metadata": {},
   "outputs": [
    {
     "data": {
      "text/html": [
       "<div>\n",
       "<style scoped>\n",
       "    .dataframe tbody tr th:only-of-type {\n",
       "        vertical-align: middle;\n",
       "    }\n",
       "\n",
       "    .dataframe tbody tr th {\n",
       "        vertical-align: top;\n",
       "    }\n",
       "\n",
       "    .dataframe thead th {\n",
       "        text-align: right;\n",
       "    }\n",
       "</style>\n",
       "<table border=\"1\" class=\"dataframe\">\n",
       "  <thead>\n",
       "    <tr style=\"text-align: right;\">\n",
       "      <th></th>\n",
       "      <th>group ID</th>\n",
       "      <th>S0002</th>\n",
       "      <th>S0003</th>\n",
       "      <th>S0004</th>\n",
       "      <th>S0005</th>\n",
       "      <th>S0006</th>\n",
       "      <th>S0008</th>\n",
       "      <th>S0009</th>\n",
       "      <th>S0010</th>\n",
       "      <th>S0012</th>\n",
       "      <th>...</th>\n",
       "      <th>S1039</th>\n",
       "      <th>S1046</th>\n",
       "      <th>S1047</th>\n",
       "      <th>S1051</th>\n",
       "      <th>S1058</th>\n",
       "      <th>S1059</th>\n",
       "      <th>S1060</th>\n",
       "      <th>S1072</th>\n",
       "      <th>technique ID</th>\n",
       "      <th>target</th>\n",
       "    </tr>\n",
       "  </thead>\n",
       "  <tbody>\n",
       "    <tr>\n",
       "      <th>0</th>\n",
       "      <td>G0099</td>\n",
       "      <td>0.0</td>\n",
       "      <td>0.0</td>\n",
       "      <td>0.0</td>\n",
       "      <td>0.0</td>\n",
       "      <td>0.0</td>\n",
       "      <td>0.0</td>\n",
       "      <td>0.0</td>\n",
       "      <td>0.0</td>\n",
       "      <td>0.0</td>\n",
       "      <td>...</td>\n",
       "      <td>0.0</td>\n",
       "      <td>0.0</td>\n",
       "      <td>0.0</td>\n",
       "      <td>0.0</td>\n",
       "      <td>0.0</td>\n",
       "      <td>0.0</td>\n",
       "      <td>0.0</td>\n",
       "      <td>0.0</td>\n",
       "      <td>T1548</td>\n",
       "      <td>0.0</td>\n",
       "    </tr>\n",
       "    <tr>\n",
       "      <th>1</th>\n",
       "      <td>G0099</td>\n",
       "      <td>0.0</td>\n",
       "      <td>0.0</td>\n",
       "      <td>0.0</td>\n",
       "      <td>0.0</td>\n",
       "      <td>0.0</td>\n",
       "      <td>0.0</td>\n",
       "      <td>0.0</td>\n",
       "      <td>0.0</td>\n",
       "      <td>0.0</td>\n",
       "      <td>...</td>\n",
       "      <td>0.0</td>\n",
       "      <td>0.0</td>\n",
       "      <td>0.0</td>\n",
       "      <td>0.0</td>\n",
       "      <td>0.0</td>\n",
       "      <td>0.0</td>\n",
       "      <td>0.0</td>\n",
       "      <td>0.0</td>\n",
       "      <td>T1548.002</td>\n",
       "      <td>0.0</td>\n",
       "    </tr>\n",
       "    <tr>\n",
       "      <th>2</th>\n",
       "      <td>G0099</td>\n",
       "      <td>0.0</td>\n",
       "      <td>0.0</td>\n",
       "      <td>0.0</td>\n",
       "      <td>0.0</td>\n",
       "      <td>0.0</td>\n",
       "      <td>0.0</td>\n",
       "      <td>0.0</td>\n",
       "      <td>0.0</td>\n",
       "      <td>0.0</td>\n",
       "      <td>...</td>\n",
       "      <td>0.0</td>\n",
       "      <td>0.0</td>\n",
       "      <td>0.0</td>\n",
       "      <td>0.0</td>\n",
       "      <td>0.0</td>\n",
       "      <td>0.0</td>\n",
       "      <td>0.0</td>\n",
       "      <td>0.0</td>\n",
       "      <td>T1548.004</td>\n",
       "      <td>0.0</td>\n",
       "    </tr>\n",
       "    <tr>\n",
       "      <th>3</th>\n",
       "      <td>G0099</td>\n",
       "      <td>0.0</td>\n",
       "      <td>0.0</td>\n",
       "      <td>0.0</td>\n",
       "      <td>0.0</td>\n",
       "      <td>0.0</td>\n",
       "      <td>0.0</td>\n",
       "      <td>0.0</td>\n",
       "      <td>0.0</td>\n",
       "      <td>0.0</td>\n",
       "      <td>...</td>\n",
       "      <td>0.0</td>\n",
       "      <td>0.0</td>\n",
       "      <td>0.0</td>\n",
       "      <td>0.0</td>\n",
       "      <td>0.0</td>\n",
       "      <td>0.0</td>\n",
       "      <td>0.0</td>\n",
       "      <td>0.0</td>\n",
       "      <td>T1548.001</td>\n",
       "      <td>0.0</td>\n",
       "    </tr>\n",
       "    <tr>\n",
       "      <th>4</th>\n",
       "      <td>G0099</td>\n",
       "      <td>0.0</td>\n",
       "      <td>0.0</td>\n",
       "      <td>0.0</td>\n",
       "      <td>0.0</td>\n",
       "      <td>0.0</td>\n",
       "      <td>0.0</td>\n",
       "      <td>0.0</td>\n",
       "      <td>0.0</td>\n",
       "      <td>0.0</td>\n",
       "      <td>...</td>\n",
       "      <td>0.0</td>\n",
       "      <td>0.0</td>\n",
       "      <td>0.0</td>\n",
       "      <td>0.0</td>\n",
       "      <td>0.0</td>\n",
       "      <td>0.0</td>\n",
       "      <td>0.0</td>\n",
       "      <td>0.0</td>\n",
       "      <td>T1548.003</td>\n",
       "      <td>0.0</td>\n",
       "    </tr>\n",
       "  </tbody>\n",
       "</table>\n",
       "<p>5 rows × 466 columns</p>\n",
       "</div>"
      ],
      "text/plain": [
       "  group ID  S0002  S0003  S0004  S0005  S0006  S0008  S0009  S0010  S0012  \\\n",
       "0    G0099    0.0    0.0    0.0    0.0    0.0    0.0    0.0    0.0    0.0   \n",
       "1    G0099    0.0    0.0    0.0    0.0    0.0    0.0    0.0    0.0    0.0   \n",
       "2    G0099    0.0    0.0    0.0    0.0    0.0    0.0    0.0    0.0    0.0   \n",
       "3    G0099    0.0    0.0    0.0    0.0    0.0    0.0    0.0    0.0    0.0   \n",
       "4    G0099    0.0    0.0    0.0    0.0    0.0    0.0    0.0    0.0    0.0   \n",
       "\n",
       "   ...  S1039  S1046  S1047  S1051  S1058  S1059  S1060  S1072  technique ID  \\\n",
       "0  ...    0.0    0.0    0.0    0.0    0.0    0.0    0.0    0.0         T1548   \n",
       "1  ...    0.0    0.0    0.0    0.0    0.0    0.0    0.0    0.0     T1548.002   \n",
       "2  ...    0.0    0.0    0.0    0.0    0.0    0.0    0.0    0.0     T1548.004   \n",
       "3  ...    0.0    0.0    0.0    0.0    0.0    0.0    0.0    0.0     T1548.001   \n",
       "4  ...    0.0    0.0    0.0    0.0    0.0    0.0    0.0    0.0     T1548.003   \n",
       "\n",
       "   target  \n",
       "0     0.0  \n",
       "1     0.0  \n",
       "2     0.0  \n",
       "3     0.0  \n",
       "4     0.0  \n",
       "\n",
       "[5 rows x 466 columns]"
      ]
     },
     "execution_count": 131,
     "metadata": {},
     "output_type": "execute_result"
    }
   ],
   "source": [
    "G_train_df.head()"
   ]
  },
  {
   "cell_type": "markdown",
   "metadata": {},
   "source": [
    "- removing ID columns and converting to numpy array"
   ]
  },
  {
   "cell_type": "code",
   "execution_count": 132,
   "metadata": {},
   "outputs": [],
   "source": [
    "ids = ['group ID', 'technique ID']\n",
    "\n",
    "y_train = sampled_G_T_train_df.drop(columns = ids).values\n",
    "y_train.dtype\n",
    "\n",
    "# G_train = sampled_G_train_df.drop(columns = ids)\n",
    "G_train = sampled_G_train_df.drop(columns = ids).values\n",
    "\n",
    "# T_train = sampled_T_train_df.drop(columns = ids)\n",
    "T_train = sampled_T_train_df.drop(columns = ids).values\n",
    "\n"
   ]
  },
  {
   "cell_type": "code",
   "execution_count": 133,
   "metadata": {},
   "outputs": [
    {
     "name": "stdout",
     "output_type": "stream",
     "text": [
      "(32410, 1)\n",
      "(32410, 464)\n",
      "(32410, 55)\n"
     ]
    }
   ],
   "source": [
    "print (y_train.shape)\n",
    "print (G_train.shape)\n",
    "print (T_train.shape)"
   ]
  },
  {
   "cell_type": "code",
   "execution_count": 134,
   "metadata": {},
   "outputs": [
    {
     "data": {
      "text/plain": [
       "numpy.ndarray"
      ]
     },
     "execution_count": 134,
     "metadata": {},
     "output_type": "execute_result"
    }
   ],
   "source": [
    "type(T_train)"
   ]
  },
  {
   "cell_type": "markdown",
   "metadata": {},
   "source": [
    "# 1-Model architecture"
   ]
  },
  {
   "cell_type": "code",
   "execution_count": 135,
   "metadata": {},
   "outputs": [],
   "source": [
    "# input shapes config\n",
    "num_G_features = G_train.shape[1]  # remove Group ID during training\n",
    "num_T_features = T_train.shape[1]   # remove Movie ID during training\n",
    "\n",
    "# output\n",
    "num_outputs = 32\n",
    "\n"
   ]
  },
  {
   "cell_type": "code",
   "execution_count": 136,
   "metadata": {},
   "outputs": [],
   "source": [
    "tf.random.set_seed(random_state)\n",
    "\n",
    "# Group NN\n",
    "Group_NN = tf.keras.models.Sequential(\n",
    "    layers=[\n",
    "    tf.keras.layers.Dense (256, activation = 'relu'),\n",
    "    tf.keras.layers.Dense (128, activation = 'relu'),\n",
    "    tf.keras.layers.Dense (num_outputs, activation  = 'linear'),\n",
    "    ], \n",
    "    name= \"Group_NN\")\n",
    "# input vector for user_NN\n",
    "input_Group = tf.keras.layers.Input(shape = (num_G_features), name = \"input_Group\")\n",
    "vg = Group_NN(input_Group)\n",
    "# vg = tf.linalg.l2_normalize(vg, axis=1)\n",
    "\n",
    "# Technique NN\n",
    "Technique_NN = tf.keras.models.Sequential(\n",
    "    layers = [\n",
    "    tf.keras.layers.Dense (256, activation = 'relu'),\n",
    "    tf.keras.layers.Dense (128, activation = 'relu'),\n",
    "    tf.keras.layers.Dense (num_outputs, activation  = 'linear'),  \n",
    "    ],\n",
    "    name = \"Technique_NN\")\n",
    "# input vector for Technique_NN\n",
    "input_Technique = tf.keras.layers.Input (shape= (num_T_features), name = \"input_Technique\")\n",
    "vt = Technique_NN (input_Technique)\n",
    "# vt = tf.linalg.l2_normalize (vt, axis = 1)\n",
    "\n",
    "output = tf.keras.layers.Dot (axes=1)(inputs= [vg, vt])\n",
    "\n",
    "model = tf.keras.Model (inputs = [input_Group, input_Technique],\n",
    "                        outputs = output, name = 'recsysNN_model')\n",
    "\n",
    "\n",
    "\n",
    "tf.random.set_seed(random_state)\n",
    "opt = keras.optimizers.Adam (learning_rate= 0.05)\n",
    "model.compile (optimizer = opt, loss = BinaryCrossentropy (from_logits= True))"
   ]
  },
  {
   "cell_type": "code",
   "execution_count": 137,
   "metadata": {},
   "outputs": [
    {
     "name": "stdout",
     "output_type": "stream",
     "text": [
      "Model: \"recsysNN_model\"\n",
      "__________________________________________________________________________________________________\n",
      " Layer (type)                   Output Shape         Param #     Connected to                     \n",
      "==================================================================================================\n",
      " input_Group (InputLayer)       [(None, 464)]        0           []                               \n",
      "                                                                                                  \n",
      " input_Technique (InputLayer)   [(None, 55)]         0           []                               \n",
      "                                                                                                  \n",
      " Group_NN (Sequential)          (None, 32)           156064      ['input_Group[0][0]']            \n",
      "                                                                                                  \n",
      " Technique_NN (Sequential)      (None, 32)           51360       ['input_Technique[0][0]']        \n",
      "                                                                                                  \n",
      " dot_12 (Dot)                   (None, 1)            0           ['Group_NN[0][0]',               \n",
      "                                                                  'Technique_NN[0][0]']           \n",
      "                                                                                                  \n",
      "==================================================================================================\n",
      "Total params: 207,424\n",
      "Trainable params: 207,424\n",
      "Non-trainable params: 0\n",
      "__________________________________________________________________________________________________\n"
     ]
    }
   ],
   "source": [
    "model.summary()"
   ]
  },
  {
   "cell_type": "code",
   "execution_count": 138,
   "metadata": {},
   "outputs": [
    {
     "name": "stdout",
     "output_type": "stream",
     "text": [
      "G_train.shape: (25928, 464)\n",
      "T_train.shape: (25928, 55)\n",
      "G_test.shape: (6482, 464)\n",
      "T_test.shape: (6482, 55)\n"
     ]
    }
   ],
   "source": [
    "from sklearn.model_selection import train_test_split\n",
    "\n",
    "T_train, T_test = train_test_split(T_train, train_size= 0.8, shuffle= True, random_state= random_state)\n",
    "G_train, G_test = train_test_split(G_train, train_size= 0.8, shuffle= True, random_state= random_state)\n",
    "y_train, y_test = train_test_split(y_train, train_size= 0.8, shuffle= True, random_state= random_state)\n",
    "\n",
    "print(f\"G_train.shape: {G_train.shape}\")\n",
    "print(f\"T_train.shape: {T_train.shape}\")\n",
    "print(f\"G_test.shape: {G_test.shape}\")\n",
    "print(f\"T_test.shape: {T_test.shape}\")\n"
   ]
  },
  {
   "cell_type": "code",
   "execution_count": 139,
   "metadata": {},
   "outputs": [
    {
     "name": "stdout",
     "output_type": "stream",
     "text": [
      "Epoch 1/30\n",
      "811/811 [==============================] - 4s 4ms/step - loss: 0.3909\n",
      "Epoch 2/30\n",
      "811/811 [==============================] - 3s 4ms/step - loss: 1.2788e-06\n",
      "Epoch 3/30\n",
      "811/811 [==============================] - 4s 4ms/step - loss: 6.0655e-07\n",
      "Epoch 4/30\n",
      "811/811 [==============================] - 4s 4ms/step - loss: 3.4924e-07\n",
      "Epoch 5/30\n",
      "811/811 [==============================] - 4s 4ms/step - loss: 2.2640e-07\n",
      "Epoch 6/30\n",
      "811/811 [==============================] - 4s 4ms/step - loss: 1.5336e-07\n",
      "Epoch 7/30\n",
      "811/811 [==============================] - 4s 5ms/step - loss: 1.0529e-07\n",
      "Epoch 8/30\n",
      "811/811 [==============================] - 3s 4ms/step - loss: 7.2403e-08\n",
      "Epoch 9/30\n",
      "811/811 [==============================] - 3s 4ms/step - loss: 4.6990e-08\n",
      "Epoch 10/30\n",
      "811/811 [==============================] - 3s 4ms/step - loss: 2.5468e-08\n",
      "Epoch 11/30\n",
      "811/811 [==============================] - 3s 4ms/step - loss: 1.4828e-08\n",
      "Epoch 12/30\n",
      "811/811 [==============================] - 4s 5ms/step - loss: 9.1172e-09\n",
      "Epoch 13/30\n",
      "811/811 [==============================] - 4s 4ms/step - loss: 5.6554e-09\n",
      "Epoch 14/30\n",
      "811/811 [==============================] - 3s 4ms/step - loss: 3.6080e-09\n",
      "Epoch 15/30\n",
      "811/811 [==============================] - 3s 4ms/step - loss: 2.3398e-09\n",
      "Epoch 16/30\n",
      "811/811 [==============================] - 4s 5ms/step - loss: 1.2261e-09\n",
      "Epoch 17/30\n",
      "811/811 [==============================] - 4s 5ms/step - loss: 6.5515e-10\n",
      "Epoch 18/30\n",
      "811/811 [==============================] - 4s 5ms/step - loss: 4.0387e-10\n",
      "Epoch 19/30\n",
      "811/811 [==============================] - 4s 5ms/step - loss: 2.6261e-10\n",
      "Epoch 20/30\n",
      "811/811 [==============================] - 4s 5ms/step - loss: 1.7597e-10\n",
      "Epoch 21/30\n",
      "811/811 [==============================] - 4s 5ms/step - loss: 1.2121e-10\n",
      "Epoch 22/30\n",
      "811/811 [==============================] - 4s 5ms/step - loss: 8.2453e-11\n",
      "Epoch 23/30\n",
      "772/811 [===========================>..] - ETA: 0s - loss: 6.7580e-11"
     ]
    },
    {
     "ename": "KeyboardInterrupt",
     "evalue": "",
     "output_type": "error",
     "traceback": [
      "\u001b[1;31m---------------------------------------------------------------------------\u001b[0m",
      "\u001b[1;31mKeyboardInterrupt\u001b[0m                         Traceback (most recent call last)",
      "Cell \u001b[1;32mIn[139], line 3\u001b[0m\n\u001b[0;32m      1\u001b[0m tf\u001b[39m.\u001b[39mrandom\u001b[39m.\u001b[39mset_seed(random_state)\n\u001b[1;32m----> 3\u001b[0m model\u001b[39m.\u001b[39;49mfit( \n\u001b[0;32m      4\u001b[0m     x \u001b[39m=\u001b[39;49m [\n\u001b[0;32m      5\u001b[0m     G_train,\n\u001b[0;32m      6\u001b[0m     T_train\n\u001b[0;32m      7\u001b[0m     ],\n\u001b[0;32m      8\u001b[0m     y \u001b[39m=\u001b[39;49m y_train,\n\u001b[0;32m      9\u001b[0m     epochs \u001b[39m=\u001b[39;49m \u001b[39m30\u001b[39;49m)\n",
      "File \u001b[1;32mc:\\Users\\vuchi\\anaconda3\\envs\\tfNote01\\lib\\site-packages\\keras\\utils\\traceback_utils.py:65\u001b[0m, in \u001b[0;36mfilter_traceback.<locals>.error_handler\u001b[1;34m(*args, **kwargs)\u001b[0m\n\u001b[0;32m     63\u001b[0m filtered_tb \u001b[39m=\u001b[39m \u001b[39mNone\u001b[39;00m\n\u001b[0;32m     64\u001b[0m \u001b[39mtry\u001b[39;00m:\n\u001b[1;32m---> 65\u001b[0m     \u001b[39mreturn\u001b[39;00m fn(\u001b[39m*\u001b[39margs, \u001b[39m*\u001b[39m\u001b[39m*\u001b[39mkwargs)\n\u001b[0;32m     66\u001b[0m \u001b[39mexcept\u001b[39;00m \u001b[39mException\u001b[39;00m \u001b[39mas\u001b[39;00m e:\n\u001b[0;32m     67\u001b[0m     filtered_tb \u001b[39m=\u001b[39m _process_traceback_frames(e\u001b[39m.\u001b[39m__traceback__)\n",
      "File \u001b[1;32mc:\\Users\\vuchi\\anaconda3\\envs\\tfNote01\\lib\\site-packages\\keras\\engine\\training.py:1564\u001b[0m, in \u001b[0;36mModel.fit\u001b[1;34m(self, x, y, batch_size, epochs, verbose, callbacks, validation_split, validation_data, shuffle, class_weight, sample_weight, initial_epoch, steps_per_epoch, validation_steps, validation_batch_size, validation_freq, max_queue_size, workers, use_multiprocessing)\u001b[0m\n\u001b[0;32m   1556\u001b[0m \u001b[39mwith\u001b[39;00m tf\u001b[39m.\u001b[39mprofiler\u001b[39m.\u001b[39mexperimental\u001b[39m.\u001b[39mTrace(\n\u001b[0;32m   1557\u001b[0m     \u001b[39m\"\u001b[39m\u001b[39mtrain\u001b[39m\u001b[39m\"\u001b[39m,\n\u001b[0;32m   1558\u001b[0m     epoch_num\u001b[39m=\u001b[39mepoch,\n\u001b[1;32m   (...)\u001b[0m\n\u001b[0;32m   1561\u001b[0m     _r\u001b[39m=\u001b[39m\u001b[39m1\u001b[39m,\n\u001b[0;32m   1562\u001b[0m ):\n\u001b[0;32m   1563\u001b[0m     callbacks\u001b[39m.\u001b[39mon_train_batch_begin(step)\n\u001b[1;32m-> 1564\u001b[0m     tmp_logs \u001b[39m=\u001b[39m \u001b[39mself\u001b[39;49m\u001b[39m.\u001b[39;49mtrain_function(iterator)\n\u001b[0;32m   1565\u001b[0m     \u001b[39mif\u001b[39;00m data_handler\u001b[39m.\u001b[39mshould_sync:\n\u001b[0;32m   1566\u001b[0m         context\u001b[39m.\u001b[39masync_wait()\n",
      "File \u001b[1;32mc:\\Users\\vuchi\\anaconda3\\envs\\tfNote01\\lib\\site-packages\\tensorflow\\python\\util\\traceback_utils.py:150\u001b[0m, in \u001b[0;36mfilter_traceback.<locals>.error_handler\u001b[1;34m(*args, **kwargs)\u001b[0m\n\u001b[0;32m    148\u001b[0m filtered_tb \u001b[39m=\u001b[39m \u001b[39mNone\u001b[39;00m\n\u001b[0;32m    149\u001b[0m \u001b[39mtry\u001b[39;00m:\n\u001b[1;32m--> 150\u001b[0m   \u001b[39mreturn\u001b[39;00m fn(\u001b[39m*\u001b[39margs, \u001b[39m*\u001b[39m\u001b[39m*\u001b[39mkwargs)\n\u001b[0;32m    151\u001b[0m \u001b[39mexcept\u001b[39;00m \u001b[39mException\u001b[39;00m \u001b[39mas\u001b[39;00m e:\n\u001b[0;32m    152\u001b[0m   filtered_tb \u001b[39m=\u001b[39m _process_traceback_frames(e\u001b[39m.\u001b[39m__traceback__)\n",
      "File \u001b[1;32mc:\\Users\\vuchi\\anaconda3\\envs\\tfNote01\\lib\\site-packages\\tensorflow\\python\\eager\\def_function.py:915\u001b[0m, in \u001b[0;36mFunction.__call__\u001b[1;34m(self, *args, **kwds)\u001b[0m\n\u001b[0;32m    912\u001b[0m compiler \u001b[39m=\u001b[39m \u001b[39m\"\u001b[39m\u001b[39mxla\u001b[39m\u001b[39m\"\u001b[39m \u001b[39mif\u001b[39;00m \u001b[39mself\u001b[39m\u001b[39m.\u001b[39m_jit_compile \u001b[39melse\u001b[39;00m \u001b[39m\"\u001b[39m\u001b[39mnonXla\u001b[39m\u001b[39m\"\u001b[39m\n\u001b[0;32m    914\u001b[0m \u001b[39mwith\u001b[39;00m OptionalXlaContext(\u001b[39mself\u001b[39m\u001b[39m.\u001b[39m_jit_compile):\n\u001b[1;32m--> 915\u001b[0m   result \u001b[39m=\u001b[39m \u001b[39mself\u001b[39m\u001b[39m.\u001b[39m_call(\u001b[39m*\u001b[39margs, \u001b[39m*\u001b[39m\u001b[39m*\u001b[39mkwds)\n\u001b[0;32m    917\u001b[0m new_tracing_count \u001b[39m=\u001b[39m \u001b[39mself\u001b[39m\u001b[39m.\u001b[39mexperimental_get_tracing_count()\n\u001b[0;32m    918\u001b[0m without_tracing \u001b[39m=\u001b[39m (tracing_count \u001b[39m==\u001b[39m new_tracing_count)\n",
      "File \u001b[1;32mc:\\Users\\vuchi\\anaconda3\\envs\\tfNote01\\lib\\site-packages\\tensorflow\\python\\eager\\def_function.py:947\u001b[0m, in \u001b[0;36mFunction._call\u001b[1;34m(self, *args, **kwds)\u001b[0m\n\u001b[0;32m    944\u001b[0m   \u001b[39mself\u001b[39m\u001b[39m.\u001b[39m_lock\u001b[39m.\u001b[39mrelease()\n\u001b[0;32m    945\u001b[0m   \u001b[39m# In this case we have created variables on the first call, so we run the\u001b[39;00m\n\u001b[0;32m    946\u001b[0m   \u001b[39m# defunned version which is guaranteed to never create variables.\u001b[39;00m\n\u001b[1;32m--> 947\u001b[0m   \u001b[39mreturn\u001b[39;00m \u001b[39mself\u001b[39m\u001b[39m.\u001b[39m_stateless_fn(\u001b[39m*\u001b[39margs, \u001b[39m*\u001b[39m\u001b[39m*\u001b[39mkwds)  \u001b[39m# pylint: disable=not-callable\u001b[39;00m\n\u001b[0;32m    948\u001b[0m \u001b[39melif\u001b[39;00m \u001b[39mself\u001b[39m\u001b[39m.\u001b[39m_stateful_fn \u001b[39mis\u001b[39;00m \u001b[39mnot\u001b[39;00m \u001b[39mNone\u001b[39;00m:\n\u001b[0;32m    949\u001b[0m   \u001b[39m# Release the lock early so that multiple threads can perform the call\u001b[39;00m\n\u001b[0;32m    950\u001b[0m   \u001b[39m# in parallel.\u001b[39;00m\n\u001b[0;32m    951\u001b[0m   \u001b[39mself\u001b[39m\u001b[39m.\u001b[39m_lock\u001b[39m.\u001b[39mrelease()\n",
      "File \u001b[1;32mc:\\Users\\vuchi\\anaconda3\\envs\\tfNote01\\lib\\site-packages\\tensorflow\\python\\eager\\function.py:2496\u001b[0m, in \u001b[0;36mFunction.__call__\u001b[1;34m(self, *args, **kwargs)\u001b[0m\n\u001b[0;32m   2493\u001b[0m \u001b[39mwith\u001b[39;00m \u001b[39mself\u001b[39m\u001b[39m.\u001b[39m_lock:\n\u001b[0;32m   2494\u001b[0m   (graph_function,\n\u001b[0;32m   2495\u001b[0m    filtered_flat_args) \u001b[39m=\u001b[39m \u001b[39mself\u001b[39m\u001b[39m.\u001b[39m_maybe_define_function(args, kwargs)\n\u001b[1;32m-> 2496\u001b[0m \u001b[39mreturn\u001b[39;00m graph_function\u001b[39m.\u001b[39;49m_call_flat(\n\u001b[0;32m   2497\u001b[0m     filtered_flat_args, captured_inputs\u001b[39m=\u001b[39;49mgraph_function\u001b[39m.\u001b[39;49mcaptured_inputs)\n",
      "File \u001b[1;32mc:\\Users\\vuchi\\anaconda3\\envs\\tfNote01\\lib\\site-packages\\tensorflow\\python\\eager\\function.py:1862\u001b[0m, in \u001b[0;36mConcreteFunction._call_flat\u001b[1;34m(self, args, captured_inputs, cancellation_manager)\u001b[0m\n\u001b[0;32m   1858\u001b[0m possible_gradient_type \u001b[39m=\u001b[39m gradients_util\u001b[39m.\u001b[39mPossibleTapeGradientTypes(args)\n\u001b[0;32m   1859\u001b[0m \u001b[39mif\u001b[39;00m (possible_gradient_type \u001b[39m==\u001b[39m gradients_util\u001b[39m.\u001b[39mPOSSIBLE_GRADIENT_TYPES_NONE\n\u001b[0;32m   1860\u001b[0m     \u001b[39mand\u001b[39;00m executing_eagerly):\n\u001b[0;32m   1861\u001b[0m   \u001b[39m# No tape is watching; skip to running the function.\u001b[39;00m\n\u001b[1;32m-> 1862\u001b[0m   \u001b[39mreturn\u001b[39;00m \u001b[39mself\u001b[39m\u001b[39m.\u001b[39m_build_call_outputs(\u001b[39mself\u001b[39;49m\u001b[39m.\u001b[39;49m_inference_function\u001b[39m.\u001b[39;49mcall(\n\u001b[0;32m   1863\u001b[0m       ctx, args, cancellation_manager\u001b[39m=\u001b[39;49mcancellation_manager))\n\u001b[0;32m   1864\u001b[0m forward_backward \u001b[39m=\u001b[39m \u001b[39mself\u001b[39m\u001b[39m.\u001b[39m_select_forward_and_backward_functions(\n\u001b[0;32m   1865\u001b[0m     args,\n\u001b[0;32m   1866\u001b[0m     possible_gradient_type,\n\u001b[0;32m   1867\u001b[0m     executing_eagerly)\n\u001b[0;32m   1868\u001b[0m forward_function, args_with_tangents \u001b[39m=\u001b[39m forward_backward\u001b[39m.\u001b[39mforward()\n",
      "File \u001b[1;32mc:\\Users\\vuchi\\anaconda3\\envs\\tfNote01\\lib\\site-packages\\tensorflow\\python\\eager\\function.py:499\u001b[0m, in \u001b[0;36m_EagerDefinedFunction.call\u001b[1;34m(self, ctx, args, cancellation_manager)\u001b[0m\n\u001b[0;32m    497\u001b[0m \u001b[39mwith\u001b[39;00m _InterpolateFunctionError(\u001b[39mself\u001b[39m):\n\u001b[0;32m    498\u001b[0m   \u001b[39mif\u001b[39;00m cancellation_manager \u001b[39mis\u001b[39;00m \u001b[39mNone\u001b[39;00m:\n\u001b[1;32m--> 499\u001b[0m     outputs \u001b[39m=\u001b[39m execute\u001b[39m.\u001b[39;49mexecute(\n\u001b[0;32m    500\u001b[0m         \u001b[39mstr\u001b[39;49m(\u001b[39mself\u001b[39;49m\u001b[39m.\u001b[39;49msignature\u001b[39m.\u001b[39;49mname),\n\u001b[0;32m    501\u001b[0m         num_outputs\u001b[39m=\u001b[39;49m\u001b[39mself\u001b[39;49m\u001b[39m.\u001b[39;49m_num_outputs,\n\u001b[0;32m    502\u001b[0m         inputs\u001b[39m=\u001b[39;49margs,\n\u001b[0;32m    503\u001b[0m         attrs\u001b[39m=\u001b[39;49mattrs,\n\u001b[0;32m    504\u001b[0m         ctx\u001b[39m=\u001b[39;49mctx)\n\u001b[0;32m    505\u001b[0m   \u001b[39melse\u001b[39;00m:\n\u001b[0;32m    506\u001b[0m     outputs \u001b[39m=\u001b[39m execute\u001b[39m.\u001b[39mexecute_with_cancellation(\n\u001b[0;32m    507\u001b[0m         \u001b[39mstr\u001b[39m(\u001b[39mself\u001b[39m\u001b[39m.\u001b[39msignature\u001b[39m.\u001b[39mname),\n\u001b[0;32m    508\u001b[0m         num_outputs\u001b[39m=\u001b[39m\u001b[39mself\u001b[39m\u001b[39m.\u001b[39m_num_outputs,\n\u001b[1;32m   (...)\u001b[0m\n\u001b[0;32m    511\u001b[0m         ctx\u001b[39m=\u001b[39mctx,\n\u001b[0;32m    512\u001b[0m         cancellation_manager\u001b[39m=\u001b[39mcancellation_manager)\n",
      "File \u001b[1;32mc:\\Users\\vuchi\\anaconda3\\envs\\tfNote01\\lib\\site-packages\\tensorflow\\python\\eager\\execute.py:54\u001b[0m, in \u001b[0;36mquick_execute\u001b[1;34m(op_name, num_outputs, inputs, attrs, ctx, name)\u001b[0m\n\u001b[0;32m     52\u001b[0m \u001b[39mtry\u001b[39;00m:\n\u001b[0;32m     53\u001b[0m   ctx\u001b[39m.\u001b[39mensure_initialized()\n\u001b[1;32m---> 54\u001b[0m   tensors \u001b[39m=\u001b[39m pywrap_tfe\u001b[39m.\u001b[39;49mTFE_Py_Execute(ctx\u001b[39m.\u001b[39;49m_handle, device_name, op_name,\n\u001b[0;32m     55\u001b[0m                                       inputs, attrs, num_outputs)\n\u001b[0;32m     56\u001b[0m \u001b[39mexcept\u001b[39;00m core\u001b[39m.\u001b[39m_NotOkStatusException \u001b[39mas\u001b[39;00m e:\n\u001b[0;32m     57\u001b[0m   \u001b[39mif\u001b[39;00m name \u001b[39mis\u001b[39;00m \u001b[39mnot\u001b[39;00m \u001b[39mNone\u001b[39;00m:\n",
      "\u001b[1;31mKeyboardInterrupt\u001b[0m: "
     ]
    }
   ],
   "source": [
    "tf.random.set_seed(random_state)\n",
    "\n",
    "model.fit( \n",
    "    x = [\n",
    "    G_train,\n",
    "    T_train\n",
    "    ],\n",
    "    y = y_train,\n",
    "    epochs = 30)"
   ]
  }
 ],
 "metadata": {
  "kernelspec": {
   "display_name": "tfNote01",
   "language": "python",
   "name": "python3"
  },
  "language_info": {
   "codemirror_mode": {
    "name": "ipython",
    "version": 3
   },
   "file_extension": ".py",
   "mimetype": "text/x-python",
   "name": "python",
   "nbconvert_exporter": "python",
   "pygments_lexer": "ipython3",
   "version": "3.10.12"
  },
  "orig_nbformat": 4
 },
 "nbformat": 4,
 "nbformat_minor": 2
}
