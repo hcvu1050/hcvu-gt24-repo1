{
 "cells": [
  {
   "cell_type": "code",
   "execution_count": 1,
   "metadata": {},
   "outputs": [],
   "source": [
    "import pandas as pd\n",
    "import tensorflow as tf\n",
    "from tensorflow import keras\n",
    "from keras.losses import BinaryCrossentropy"
   ]
  },
  {
   "cell_type": "markdown",
   "metadata": {},
   "source": [
    "# 0 - Dataload "
   ]
  },
  {
   "cell_type": "code",
   "execution_count": 2,
   "metadata": {},
   "outputs": [],
   "source": [
    "G_train_df      = pd.read_csv ('data/preprocessed_data/G_train.csv')\n",
    "T_train_df      = pd.read_csv ('data/preprocessed_data/T_train.csv')\n",
    "G_T_train_df    = pd.read_csv ('data/preprocessed_data/balanced_G_T_train.csv')"
   ]
  },
  {
   "cell_type": "code",
   "execution_count": 3,
   "metadata": {},
   "outputs": [],
   "source": [
    "random_state = 13\n",
    "frac = 0.1\n",
    "\n",
    "sampled_G_train_df      = G_train_df.sample(frac = frac, random_state=random_state)\n",
    "sampled_T_train_df      = T_train_df.sample(frac = frac, random_state=random_state)\n",
    "sampled_G_T_train_df    = G_T_train_df.sample(frac = frac, random_state=random_state)\n"
   ]
  },
  {
   "cell_type": "code",
   "execution_count": 4,
   "metadata": {},
   "outputs": [
    {
     "name": "stdout",
     "output_type": "stream",
     "text": [
      "(25757, 3)\n",
      "(25757, 464)\n",
      "(25757, 55)\n"
     ]
    }
   ],
   "source": [
    "print (sampled_G_T_train_df.shape)\n",
    "print (sampled_G_train_df.shape)\n",
    "print (sampled_T_train_df.shape)"
   ]
  },
  {
   "cell_type": "code",
   "execution_count": 5,
   "metadata": {},
   "outputs": [
    {
     "data": {
      "text/html": [
       "<div>\n",
       "<style scoped>\n",
       "    .dataframe tbody tr th:only-of-type {\n",
       "        vertical-align: middle;\n",
       "    }\n",
       "\n",
       "    .dataframe tbody tr th {\n",
       "        vertical-align: top;\n",
       "    }\n",
       "\n",
       "    .dataframe thead th {\n",
       "        text-align: right;\n",
       "    }\n",
       "</style>\n",
       "<table border=\"1\" class=\"dataframe\">\n",
       "  <thead>\n",
       "    <tr style=\"text-align: right;\">\n",
       "      <th></th>\n",
       "      <th>group ID</th>\n",
       "      <th>S0002</th>\n",
       "      <th>S0003</th>\n",
       "      <th>S0004</th>\n",
       "      <th>S0005</th>\n",
       "      <th>S0006</th>\n",
       "      <th>S0008</th>\n",
       "      <th>S0009</th>\n",
       "      <th>S0010</th>\n",
       "      <th>S0012</th>\n",
       "      <th>...</th>\n",
       "      <th>S1035</th>\n",
       "      <th>S1037</th>\n",
       "      <th>S1039</th>\n",
       "      <th>S1046</th>\n",
       "      <th>S1047</th>\n",
       "      <th>S1051</th>\n",
       "      <th>S1058</th>\n",
       "      <th>S1059</th>\n",
       "      <th>S1060</th>\n",
       "      <th>S1072</th>\n",
       "    </tr>\n",
       "  </thead>\n",
       "  <tbody>\n",
       "    <tr>\n",
       "      <th>0</th>\n",
       "      <td>G0049</td>\n",
       "      <td>1.0</td>\n",
       "      <td>0.0</td>\n",
       "      <td>0.0</td>\n",
       "      <td>0.0</td>\n",
       "      <td>0.0</td>\n",
       "      <td>0.0</td>\n",
       "      <td>0.0</td>\n",
       "      <td>0.0</td>\n",
       "      <td>0.0</td>\n",
       "      <td>...</td>\n",
       "      <td>0.0</td>\n",
       "      <td>0.0</td>\n",
       "      <td>0.0</td>\n",
       "      <td>0.0</td>\n",
       "      <td>0.0</td>\n",
       "      <td>0.0</td>\n",
       "      <td>0.0</td>\n",
       "      <td>0.0</td>\n",
       "      <td>0.0</td>\n",
       "      <td>0.0</td>\n",
       "    </tr>\n",
       "    <tr>\n",
       "      <th>1</th>\n",
       "      <td>G0056</td>\n",
       "      <td>0.0</td>\n",
       "      <td>0.0</td>\n",
       "      <td>0.0</td>\n",
       "      <td>0.0</td>\n",
       "      <td>0.0</td>\n",
       "      <td>0.0</td>\n",
       "      <td>0.0</td>\n",
       "      <td>0.0</td>\n",
       "      <td>0.0</td>\n",
       "      <td>...</td>\n",
       "      <td>0.0</td>\n",
       "      <td>0.0</td>\n",
       "      <td>0.0</td>\n",
       "      <td>0.0</td>\n",
       "      <td>0.0</td>\n",
       "      <td>0.0</td>\n",
       "      <td>0.0</td>\n",
       "      <td>0.0</td>\n",
       "      <td>0.0</td>\n",
       "      <td>0.0</td>\n",
       "    </tr>\n",
       "    <tr>\n",
       "      <th>2</th>\n",
       "      <td>G0129</td>\n",
       "      <td>0.0</td>\n",
       "      <td>0.0</td>\n",
       "      <td>0.0</td>\n",
       "      <td>0.0</td>\n",
       "      <td>0.0</td>\n",
       "      <td>0.0</td>\n",
       "      <td>0.0</td>\n",
       "      <td>0.0</td>\n",
       "      <td>1.0</td>\n",
       "      <td>...</td>\n",
       "      <td>0.0</td>\n",
       "      <td>0.0</td>\n",
       "      <td>0.0</td>\n",
       "      <td>0.0</td>\n",
       "      <td>0.0</td>\n",
       "      <td>0.0</td>\n",
       "      <td>0.0</td>\n",
       "      <td>0.0</td>\n",
       "      <td>0.0</td>\n",
       "      <td>0.0</td>\n",
       "    </tr>\n",
       "    <tr>\n",
       "      <th>3</th>\n",
       "      <td>G0114</td>\n",
       "      <td>1.0</td>\n",
       "      <td>0.0</td>\n",
       "      <td>0.0</td>\n",
       "      <td>0.0</td>\n",
       "      <td>0.0</td>\n",
       "      <td>0.0</td>\n",
       "      <td>0.0</td>\n",
       "      <td>0.0</td>\n",
       "      <td>0.0</td>\n",
       "      <td>...</td>\n",
       "      <td>0.0</td>\n",
       "      <td>0.0</td>\n",
       "      <td>0.0</td>\n",
       "      <td>0.0</td>\n",
       "      <td>0.0</td>\n",
       "      <td>0.0</td>\n",
       "      <td>0.0</td>\n",
       "      <td>0.0</td>\n",
       "      <td>0.0</td>\n",
       "      <td>0.0</td>\n",
       "    </tr>\n",
       "    <tr>\n",
       "      <th>4</th>\n",
       "      <td>G0028</td>\n",
       "      <td>0.0</td>\n",
       "      <td>0.0</td>\n",
       "      <td>0.0</td>\n",
       "      <td>0.0</td>\n",
       "      <td>0.0</td>\n",
       "      <td>0.0</td>\n",
       "      <td>0.0</td>\n",
       "      <td>0.0</td>\n",
       "      <td>0.0</td>\n",
       "      <td>...</td>\n",
       "      <td>0.0</td>\n",
       "      <td>0.0</td>\n",
       "      <td>0.0</td>\n",
       "      <td>0.0</td>\n",
       "      <td>0.0</td>\n",
       "      <td>0.0</td>\n",
       "      <td>0.0</td>\n",
       "      <td>0.0</td>\n",
       "      <td>0.0</td>\n",
       "      <td>0.0</td>\n",
       "    </tr>\n",
       "  </tbody>\n",
       "</table>\n",
       "<p>5 rows × 464 columns</p>\n",
       "</div>"
      ],
      "text/plain": [
       "  group ID  S0002  S0003  S0004  S0005  S0006  S0008  S0009  S0010  S0012  \\\n",
       "0    G0049    1.0    0.0    0.0    0.0    0.0    0.0    0.0    0.0    0.0   \n",
       "1    G0056    0.0    0.0    0.0    0.0    0.0    0.0    0.0    0.0    0.0   \n",
       "2    G0129    0.0    0.0    0.0    0.0    0.0    0.0    0.0    0.0    1.0   \n",
       "3    G0114    1.0    0.0    0.0    0.0    0.0    0.0    0.0    0.0    0.0   \n",
       "4    G0028    0.0    0.0    0.0    0.0    0.0    0.0    0.0    0.0    0.0   \n",
       "\n",
       "   ...  S1035  S1037  S1039  S1046  S1047  S1051  S1058  S1059  S1060  S1072  \n",
       "0  ...    0.0    0.0    0.0    0.0    0.0    0.0    0.0    0.0    0.0    0.0  \n",
       "1  ...    0.0    0.0    0.0    0.0    0.0    0.0    0.0    0.0    0.0    0.0  \n",
       "2  ...    0.0    0.0    0.0    0.0    0.0    0.0    0.0    0.0    0.0    0.0  \n",
       "3  ...    0.0    0.0    0.0    0.0    0.0    0.0    0.0    0.0    0.0    0.0  \n",
       "4  ...    0.0    0.0    0.0    0.0    0.0    0.0    0.0    0.0    0.0    0.0  \n",
       "\n",
       "[5 rows x 464 columns]"
      ]
     },
     "execution_count": 5,
     "metadata": {},
     "output_type": "execute_result"
    }
   ],
   "source": [
    "G_train_df.head()"
   ]
  },
  {
   "cell_type": "markdown",
   "metadata": {},
   "source": [
    "- removing ID columns and converting to numpy array"
   ]
  },
  {
   "cell_type": "code",
   "execution_count": 6,
   "metadata": {},
   "outputs": [],
   "source": [
    "y_train = sampled_G_T_train_df.drop(columns = ['group ID','technique ID' ]).values\n",
    "y_train.dtype\n",
    "\n",
    "# G_train = sampled_G_train_df.drop(columns = ids)\n",
    "G_train = sampled_G_train_df.drop(columns = 'group ID').values\n",
    "\n",
    "# T_train = sampled_T_train_df.drop(columns = ids)\n",
    "T_train = sampled_T_train_df.drop(columns = 'technique ID').values\n",
    "\n"
   ]
  },
  {
   "cell_type": "code",
   "execution_count": 7,
   "metadata": {},
   "outputs": [
    {
     "name": "stdout",
     "output_type": "stream",
     "text": [
      "(25757, 1)\n",
      "(25757, 463)\n",
      "(25757, 54)\n"
     ]
    }
   ],
   "source": [
    "print (y_train.shape)\n",
    "print (G_train.shape)\n",
    "print (T_train.shape)"
   ]
  },
  {
   "cell_type": "code",
   "execution_count": 8,
   "metadata": {},
   "outputs": [
    {
     "data": {
      "text/plain": [
       "numpy.ndarray"
      ]
     },
     "execution_count": 8,
     "metadata": {},
     "output_type": "execute_result"
    }
   ],
   "source": [
    "type(T_train)"
   ]
  },
  {
   "cell_type": "markdown",
   "metadata": {},
   "source": [
    "# 1-Model architecture"
   ]
  },
  {
   "cell_type": "code",
   "execution_count": 9,
   "metadata": {},
   "outputs": [],
   "source": [
    "# input shapes config\n",
    "num_G_features = G_train.shape[1]  # remove Group ID during training\n",
    "num_T_features = T_train.shape[1]   # remove Movie ID during training\n",
    "\n",
    "# output\n",
    "num_outputs = 32\n",
    "\n"
   ]
  },
  {
   "cell_type": "code",
   "execution_count": 11,
   "metadata": {},
   "outputs": [],
   "source": [
    "tf.random.set_seed(random_state)\n",
    "\n",
    "# Group NN\n",
    "Group_NN = tf.keras.models.Sequential(\n",
    "    layers=[\n",
    "    tf.keras.layers.Dense (256, activation = 'relu'),\n",
    "    tf.keras.layers.Dense (128, activation = 'relu'),\n",
    "    tf.keras.layers.Dense (num_outputs, activation  = 'linear'),\n",
    "    ], \n",
    "    name= \"Group_NN\")\n",
    "# input vector for user_NN\n",
    "input_Group = tf.keras.layers.Input(shape = (num_G_features), name = \"input_Group\")\n",
    "vg = Group_NN(input_Group)\n",
    "# vg = tf.linalg.l2_normalize(vg, axis=1)\n",
    "\n",
    "# Technique NN\n",
    "Technique_NN = tf.keras.models.Sequential(\n",
    "    layers = [\n",
    "    tf.keras.layers.Dense (256, activation = 'relu'),\n",
    "    tf.keras.layers.Dense (128, activation = 'relu'),\n",
    "    tf.keras.layers.Dense (num_outputs, activation  = 'linear'),  \n",
    "    ],\n",
    "    name = \"Technique_NN\")\n",
    "# input vector for Technique_NN\n",
    "input_Technique = tf.keras.layers.Input (shape= (num_T_features), name = \"input_Technique\")\n",
    "vt = Technique_NN (input_Technique)\n",
    "# vt = tf.linalg.l2_normalize (vt, axis = 1)\n",
    "\n",
    "output = tf.keras.layers.Dot (axes=1)(inputs= [vg, vt])\n",
    "\n",
    "model = tf.keras.Model (inputs = [input_Group, input_Technique],\n",
    "                        outputs = output, name = 'recsysNN_model')\n",
    "\n",
    "\n",
    "\n",
    "tf.random.set_seed(random_state)\n",
    "opt = keras.optimizers.Adam (learning_rate= 0.05)\n",
    "model.compile (optimizer = opt, \n",
    "               loss = BinaryCrossentropy (from_logits= True),\n",
    "               metrics = ['accuracy'])"
   ]
  },
  {
   "cell_type": "markdown",
   "metadata": {},
   "source": [
    "## Define early stopping callback"
   ]
  },
  {
   "cell_type": "code",
   "execution_count": 58,
   "metadata": {},
   "outputs": [
    {
     "name": "stdout",
     "output_type": "stream",
     "text": [
      "Model: \"recsysNN_model\"\n",
      "__________________________________________________________________________________________________\n",
      " Layer (type)                   Output Shape         Param #     Connected to                     \n",
      "==================================================================================================\n",
      " input_Group (InputLayer)       [(None, 463)]        0           []                               \n",
      "                                                                                                  \n",
      " input_Technique (InputLayer)   [(None, 54)]         0           []                               \n",
      "                                                                                                  \n",
      " Group_NN (Sequential)          (None, 32)           155808      ['input_Group[0][0]']            \n",
      "                                                                                                  \n",
      " Technique_NN (Sequential)      (None, 32)           51104       ['input_Technique[0][0]']        \n",
      "                                                                                                  \n",
      " dot_3 (Dot)                    (None, 1)            0           ['Group_NN[0][0]',               \n",
      "                                                                  'Technique_NN[0][0]']           \n",
      "                                                                                                  \n",
      "==================================================================================================\n",
      "Total params: 206,912\n",
      "Trainable params: 206,912\n",
      "Non-trainable params: 0\n",
      "__________________________________________________________________________________________________\n"
     ]
    }
   ],
   "source": [
    "early_stopping_callback = tf.keras.callbacks.EarlyStopping(\n",
    "    monitor='val_loss',   # Monitor validation loss\n",
    "    patience=5,           # Number of epochs with no improvement after which training will be stopped\n",
    "    restore_best_weights=True   # Restore the model weights from the epoch with the best validation loss\n",
    ")"
   ]
  },
  {
   "cell_type": "markdown",
   "metadata": {},
   "source": [
    "# 2-Training the model"
   ]
  },
  {
   "cell_type": "code",
   "execution_count": 59,
   "metadata": {},
   "outputs": [
    {
     "name": "stdout",
     "output_type": "stream",
     "text": [
      "Epoch 1/30\n",
      "805/805 [==============================] - 4s 4ms/step - loss: 0.7893\n",
      "Epoch 2/30\n",
      "805/805 [==============================] - 3s 4ms/step - loss: 0.6677\n",
      "Epoch 3/30\n",
      "805/805 [==============================] - 3s 4ms/step - loss: 0.6239\n",
      "Epoch 4/30\n",
      "805/805 [==============================] - 3s 4ms/step - loss: 0.5902\n",
      "Epoch 5/30\n",
      "805/805 [==============================] - 3s 4ms/step - loss: 0.5557\n",
      "Epoch 6/30\n",
      "805/805 [==============================] - 3s 4ms/step - loss: 0.5546\n",
      "Epoch 7/30\n",
      "805/805 [==============================] - 3s 4ms/step - loss: 0.5499\n",
      "Epoch 8/30\n",
      "805/805 [==============================] - 3s 4ms/step - loss: 0.5944\n",
      "Epoch 9/30\n",
      "805/805 [==============================] - 3s 4ms/step - loss: 0.5399\n",
      "Epoch 10/30\n",
      "805/805 [==============================] - 3s 4ms/step - loss: 0.5394\n",
      "Epoch 11/30\n",
      "805/805 [==============================] - 3s 4ms/step - loss: 0.6128\n",
      "Epoch 12/30\n",
      "805/805 [==============================] - 3s 4ms/step - loss: 0.6115\n",
      "Epoch 13/30\n",
      "805/805 [==============================] - 3s 4ms/step - loss: 0.5404\n",
      "Epoch 14/30\n",
      "805/805 [==============================] - 3s 4ms/step - loss: 0.6463\n",
      "Epoch 15/30\n",
      "805/805 [==============================] - 3s 4ms/step - loss: 0.6733\n",
      "Epoch 16/30\n",
      "805/805 [==============================] - 3s 4ms/step - loss: 0.7108\n",
      "Epoch 17/30\n",
      "805/805 [==============================] - 3s 4ms/step - loss: 0.7103\n",
      "Epoch 18/30\n",
      "805/805 [==============================] - 3s 4ms/step - loss: 0.6940\n",
      "Epoch 19/30\n",
      "805/805 [==============================] - 3s 4ms/step - loss: 0.6878\n",
      "Epoch 20/30\n",
      "805/805 [==============================] - 3s 4ms/step - loss: 0.6824\n",
      "Epoch 21/30\n",
      "805/805 [==============================] - 3s 4ms/step - loss: 0.6798\n",
      "Epoch 22/30\n",
      "805/805 [==============================] - 3s 4ms/step - loss: 0.6786\n",
      "Epoch 23/30\n",
      "805/805 [==============================] - 3s 4ms/step - loss: 0.6799\n",
      "Epoch 24/30\n",
      "805/805 [==============================] - 3s 4ms/step - loss: 0.6751\n",
      "Epoch 25/30\n",
      "805/805 [==============================] - 3s 4ms/step - loss: 0.7630\n",
      "Epoch 26/30\n",
      "805/805 [==============================] - 3s 4ms/step - loss: 0.7011\n",
      "Epoch 27/30\n",
      "805/805 [==============================] - 3s 4ms/step - loss: 0.6958\n",
      "Epoch 28/30\n",
      "805/805 [==============================] - 3s 4ms/step - loss: 0.6936\n",
      "Epoch 29/30\n",
      "805/805 [==============================] - 3s 4ms/step - loss: 0.6931\n",
      "Epoch 30/30\n",
      "805/805 [==============================] - 3s 4ms/step - loss: 0.7280\n"
     ]
    },
    {
     "data": {
      "text/plain": [
       "<keras.callbacks.History at 0x20025984820>"
      ]
     },
     "execution_count": 59,
     "metadata": {},
     "output_type": "execute_result"
    }
   ],
   "source": [
    "history = model.fit (\n",
    "    x = [G_train, T_train],\n",
    "    y =  y_train,\n",
    "    batch_size = 32,\n",
    "    epochs = 30\n",
    ")"
   ]
  }
 ],
 "metadata": {
  "kernelspec": {
   "display_name": "tfNote01",
   "language": "python",
   "name": "python3"
  },
  "language_info": {
   "codemirror_mode": {
    "name": "ipython",
    "version": 3
   },
   "file_extension": ".py",
   "mimetype": "text/x-python",
   "name": "python",
   "nbconvert_exporter": "python",
   "pygments_lexer": "ipython3",
   "version": "3.11.4"
  },
  "orig_nbformat": 4
 },
 "nbformat": 4,
 "nbformat_minor": 2
}
