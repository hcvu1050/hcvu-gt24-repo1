{
 "cells": [
  {
   "cell_type": "code",
   "execution_count": 1,
   "metadata": {},
   "outputs": [],
   "source": [
    "from data_collect_v1_0 import data_collect_and_save\n",
    "import pandas as pd"
   ]
  },
  {
   "cell_type": "code",
   "execution_count": 2,
   "metadata": {},
   "outputs": [
    {
     "name": "stderr",
     "output_type": "stream",
     "text": [
      "parsing techniques: 100%|██████████| 607/607 [00:00<00:00, 1214.84it/s]\n",
      "parsing relationships for type=technique: 100%|██████████| 16530/16530 [00:00<00:00, 65408.94it/s]\n",
      "parsing groups: 100%|██████████| 136/136 [00:00<00:00, 22705.30it/s]\n",
      "parsing relationships for type=group: 100%|██████████| 16530/16530 [00:00<00:00, 74259.24it/s]\n"
     ]
    },
    {
     "name": "stdout",
     "output_type": "stream",
     "text": [
      "files saved to c:\\Users\\vuchi\\GT24\\repo1\\data\n",
      "techniques_df .csv\n",
      "techniques_mitigations_df .csv\n",
      "groups_df .csv\n",
      "groups_techniques_df .csv\n",
      "groups_software_df .csv\n"
     ]
    }
   ],
   "source": [
    "data_collect_and_save()"
   ]
  }
 ],
 "metadata": {
  "kernelspec": {
   "display_name": "tfNote01",
   "language": "python",
   "name": "python3"
  },
  "language_info": {
   "codemirror_mode": {
    "name": "ipython",
    "version": 3
   },
   "file_extension": ".py",
   "mimetype": "text/x-python",
   "name": "python",
   "nbconvert_exporter": "python",
   "pygments_lexer": "ipython3",
   "version": "3.10.12"
  },
  "orig_nbformat": 4
 },
 "nbformat": 4,
 "nbformat_minor": 2
}
