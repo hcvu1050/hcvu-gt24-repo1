{
 "cells": [
  {
   "cell_type": "code",
   "execution_count": 1,
   "metadata": {},
   "outputs": [],
   "source": [
    "from data_collect_v1_0 import data_collect\n",
    "import pandas as pd"
   ]
  },
  {
   "cell_type": "code",
   "execution_count": 2,
   "metadata": {},
   "outputs": [
    {
     "name": "stderr",
     "output_type": "stream",
     "text": [
      "parsing techniques: 100%|██████████| 607/607 [00:00<00:00, 1213.70it/s]\n",
      "parsing relationships for type=technique: 100%|██████████| 16530/16530 [00:00<00:00, 66456.35it/s]\n",
      "parsing groups: 100%|██████████| 136/136 [00:00<00:00, 12617.24it/s]\n",
      "parsing relationships for type=group: 100%|██████████| 16530/16530 [00:00<00:00, 84601.69it/s]\n"
     ]
    }
   ],
   "source": [
    "techniques_df, techniques_mitigations_df, groups_df, groups_techniques_df, groups_software_df = data_collect()"
   ]
  },
  {
   "cell_type": "code",
   "execution_count": 5,
   "metadata": {},
   "outputs": [
    {
     "data": {
      "text/html": [
       "<div>\n",
       "<style scoped>\n",
       "    .dataframe tbody tr th:only-of-type {\n",
       "        vertical-align: middle;\n",
       "    }\n",
       "\n",
       "    .dataframe tbody tr th {\n",
       "        vertical-align: top;\n",
       "    }\n",
       "\n",
       "    .dataframe thead th {\n",
       "        text-align: right;\n",
       "    }\n",
       "</style>\n",
       "<table border=\"1\" class=\"dataframe\">\n",
       "  <thead>\n",
       "    <tr style=\"text-align: right;\">\n",
       "      <th></th>\n",
       "      <th>source ID</th>\n",
       "      <th>source name</th>\n",
       "      <th>source type</th>\n",
       "      <th>mapping type</th>\n",
       "      <th>target ID</th>\n",
       "      <th>target name</th>\n",
       "      <th>target type</th>\n",
       "      <th>mapping description</th>\n",
       "    </tr>\n",
       "  </thead>\n",
       "  <tbody>\n",
       "    <tr>\n",
       "      <th>3167</th>\n",
       "      <td>G0099</td>\n",
       "      <td>APT-C-36</td>\n",
       "      <td>group</td>\n",
       "      <td>uses</td>\n",
       "      <td>T1105</td>\n",
       "      <td>Ingress Tool Transfer</td>\n",
       "      <td>technique</td>\n",
       "      <td>[APT-C-36](https://attack.mitre.org/groups/G00...</td>\n",
       "    </tr>\n",
       "    <tr>\n",
       "      <th>2096</th>\n",
       "      <td>G0099</td>\n",
       "      <td>APT-C-36</td>\n",
       "      <td>group</td>\n",
       "      <td>uses</td>\n",
       "      <td>T1204.002</td>\n",
       "      <td>Malicious File</td>\n",
       "      <td>technique</td>\n",
       "      <td>[APT-C-36](https://attack.mitre.org/groups/G00...</td>\n",
       "    </tr>\n",
       "    <tr>\n",
       "      <th>2093</th>\n",
       "      <td>G0099</td>\n",
       "      <td>APT-C-36</td>\n",
       "      <td>group</td>\n",
       "      <td>uses</td>\n",
       "      <td>T1036.004</td>\n",
       "      <td>Masquerade Task or Service</td>\n",
       "      <td>technique</td>\n",
       "      <td>[APT-C-36](https://attack.mitre.org/groups/G00...</td>\n",
       "    </tr>\n",
       "    <tr>\n",
       "      <th>65</th>\n",
       "      <td>G0099</td>\n",
       "      <td>APT-C-36</td>\n",
       "      <td>group</td>\n",
       "      <td>uses</td>\n",
       "      <td>T1571</td>\n",
       "      <td>Non-Standard Port</td>\n",
       "      <td>technique</td>\n",
       "      <td>[APT-C-36](https://attack.mitre.org/groups/G00...</td>\n",
       "    </tr>\n",
       "    <tr>\n",
       "      <th>2230</th>\n",
       "      <td>G0099</td>\n",
       "      <td>APT-C-36</td>\n",
       "      <td>group</td>\n",
       "      <td>uses</td>\n",
       "      <td>T1027</td>\n",
       "      <td>Obfuscated Files or Information</td>\n",
       "      <td>technique</td>\n",
       "      <td>[APT-C-36](https://attack.mitre.org/groups/G00...</td>\n",
       "    </tr>\n",
       "  </tbody>\n",
       "</table>\n",
       "</div>"
      ],
      "text/plain": [
       "     source ID source name source type mapping type  target ID  \\\n",
       "3167     G0099    APT-C-36       group         uses      T1105   \n",
       "2096     G0099    APT-C-36       group         uses  T1204.002   \n",
       "2093     G0099    APT-C-36       group         uses  T1036.004   \n",
       "65       G0099    APT-C-36       group         uses      T1571   \n",
       "2230     G0099    APT-C-36       group         uses      T1027   \n",
       "\n",
       "                          target name target type  \\\n",
       "3167            Ingress Tool Transfer   technique   \n",
       "2096                   Malicious File   technique   \n",
       "2093       Masquerade Task or Service   technique   \n",
       "65                  Non-Standard Port   technique   \n",
       "2230  Obfuscated Files or Information   technique   \n",
       "\n",
       "                                    mapping description  \n",
       "3167  [APT-C-36](https://attack.mitre.org/groups/G00...  \n",
       "2096  [APT-C-36](https://attack.mitre.org/groups/G00...  \n",
       "2093  [APT-C-36](https://attack.mitre.org/groups/G00...  \n",
       "65    [APT-C-36](https://attack.mitre.org/groups/G00...  \n",
       "2230  [APT-C-36](https://attack.mitre.org/groups/G00...  "
      ]
     },
     "execution_count": 5,
     "metadata": {},
     "output_type": "execute_result"
    }
   ],
   "source": [
    "groups_techniques_df.head()"
   ]
  }
 ],
 "metadata": {
  "kernelspec": {
   "display_name": "tfNote01",
   "language": "python",
   "name": "python3"
  },
  "language_info": {
   "codemirror_mode": {
    "name": "ipython",
    "version": 3
   },
   "file_extension": ".py",
   "mimetype": "text/x-python",
   "name": "python",
   "nbconvert_exporter": "python",
   "pygments_lexer": "ipython3",
   "version": "3.10.12"
  },
  "orig_nbformat": 4
 },
 "nbformat": 4,
 "nbformat_minor": 2
}
